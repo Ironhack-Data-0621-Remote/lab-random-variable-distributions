{
 "cells": [
  {
   "cell_type": "markdown",
   "id": "9f3b4c23",
   "metadata": {},
   "source": [
    "# Lab | Random variable distributions"
   ]
  },
  {
   "cell_type": "markdown",
   "id": "efac7f7a",
   "metadata": {},
   "source": [
    "Refer to the files_for_lab/we_fn_use_c_marketing_customer_value_analysis.csv dataset."
   ]
  },
  {
   "cell_type": "markdown",
   "id": "aaef1cef",
   "metadata": {},
   "source": [
    "### 1. Get the numerical variables from our dataset."
   ]
  },
  {
   "cell_type": "code",
   "execution_count": null,
   "id": "d5198445",
   "metadata": {},
   "outputs": [],
   "source": []
  },
  {
   "cell_type": "markdown",
   "id": "cc9ca0ed",
   "metadata": {},
   "source": [
    "### 2. Check using a distribution plot if the variables fit the theoretical normal or exponential distribution."
   ]
  },
  {
   "cell_type": "code",
   "execution_count": null,
   "id": "e6dd3607",
   "metadata": {},
   "outputs": [],
   "source": []
  },
  {
   "cell_type": "markdown",
   "id": "dccadcab",
   "metadata": {},
   "source": [
    "### 3. Check if any of the transformations (log-transform, etc.) we have seen up to this point changes the result."
   ]
  },
  {
   "cell_type": "code",
   "execution_count": null,
   "id": "403e595b",
   "metadata": {},
   "outputs": [],
   "source": []
  }
 ],
 "metadata": {
  "kernelspec": {
   "display_name": "Python 3",
   "language": "python",
   "name": "python3"
  },
  "language_info": {
   "codemirror_mode": {
    "name": "ipython",
    "version": 3
   },
   "file_extension": ".py",
   "mimetype": "text/x-python",
   "name": "python",
   "nbconvert_exporter": "python",
   "pygments_lexer": "ipython3",
   "version": "3.8.5"
  }
 },
 "nbformat": 4,
 "nbformat_minor": 5
}
