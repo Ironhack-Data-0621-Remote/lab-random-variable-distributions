{
 "cells": [
  {
   "cell_type": "markdown",
   "id": "f85f6b9e",
   "metadata": {},
   "source": [
    "# Lab | Cleaning numerical data"
   ]
  },
  {
   "cell_type": "markdown",
   "id": "e058abdc",
   "metadata": {},
   "source": [
    "For this lab, we will be using the dataset in the Customer Analysis Business Case. This dataset can be found in files_for_lab folder."
   ]
  },
  {
   "cell_type": "markdown",
   "id": "ce316d8a",
   "metadata": {},
   "source": [
    "### 1. Import the necessary libraries."
   ]
  },
  {
   "cell_type": "code",
   "execution_count": 54,
   "id": "4b50c2f3",
   "metadata": {},
   "outputs": [],
   "source": [
    "import pandas as pd\n",
    "import numpy as np\n",
    "import datetime\n",
    "import warnings\n",
    "import matplotlib.pyplot as plt\n",
    "import seaborn as sns\n",
    "import math\n",
    "import random\n",
    "warnings.filterwarnings('ignore')\n",
    "\n",
    "pd.options.display.max_columns = None\n",
    "pd.set_option('max_row', None)"
   ]
  },
  {
   "cell_type": "markdown",
   "id": "445f4cd7",
   "metadata": {},
   "source": [
    "### 2. Load the we_fn_use_c_marketing_customer_value_analysis.csv into the variable customer_df."
   ]
  },
  {
   "cell_type": "code",
   "execution_count": 55,
   "id": "a1129754",
   "metadata": {},
   "outputs": [],
   "source": [
    "customer_df = pd.read_csv('files_for_lab/we_fn_use_c_marketing_customer_value_analysis.csv')"
   ]
  },
  {
   "cell_type": "markdown",
   "id": "5040316b",
   "metadata": {},
   "source": [
    "### 3. First look at its main features (head, shape, info)."
   ]
  },
  {
   "cell_type": "code",
   "execution_count": 56,
   "id": "0d867b71",
   "metadata": {},
   "outputs": [
    {
     "data": {
      "text/html": [
       "<div>\n",
       "<style scoped>\n",
       "    .dataframe tbody tr th:only-of-type {\n",
       "        vertical-align: middle;\n",
       "    }\n",
       "\n",
       "    .dataframe tbody tr th {\n",
       "        vertical-align: top;\n",
       "    }\n",
       "\n",
       "    .dataframe thead th {\n",
       "        text-align: right;\n",
       "    }\n",
       "</style>\n",
       "<table border=\"1\" class=\"dataframe\">\n",
       "  <thead>\n",
       "    <tr style=\"text-align: right;\">\n",
       "      <th></th>\n",
       "      <th>Customer</th>\n",
       "      <th>State</th>\n",
       "      <th>Customer Lifetime Value</th>\n",
       "      <th>Response</th>\n",
       "      <th>Coverage</th>\n",
       "      <th>Education</th>\n",
       "      <th>Effective To Date</th>\n",
       "      <th>EmploymentStatus</th>\n",
       "      <th>Gender</th>\n",
       "      <th>Income</th>\n",
       "      <th>Location Code</th>\n",
       "      <th>Marital Status</th>\n",
       "      <th>Monthly Premium Auto</th>\n",
       "      <th>Months Since Last Claim</th>\n",
       "      <th>Months Since Policy Inception</th>\n",
       "      <th>Number of Open Complaints</th>\n",
       "      <th>Number of Policies</th>\n",
       "      <th>Policy Type</th>\n",
       "      <th>Policy</th>\n",
       "      <th>Renew Offer Type</th>\n",
       "      <th>Sales Channel</th>\n",
       "      <th>Total Claim Amount</th>\n",
       "      <th>Vehicle Class</th>\n",
       "      <th>Vehicle Size</th>\n",
       "    </tr>\n",
       "  </thead>\n",
       "  <tbody>\n",
       "    <tr>\n",
       "      <th>0</th>\n",
       "      <td>BU79786</td>\n",
       "      <td>Washington</td>\n",
       "      <td>2763.519279</td>\n",
       "      <td>No</td>\n",
       "      <td>Basic</td>\n",
       "      <td>Bachelor</td>\n",
       "      <td>2/24/11</td>\n",
       "      <td>Employed</td>\n",
       "      <td>F</td>\n",
       "      <td>56274</td>\n",
       "      <td>Suburban</td>\n",
       "      <td>Married</td>\n",
       "      <td>69</td>\n",
       "      <td>32</td>\n",
       "      <td>5</td>\n",
       "      <td>0</td>\n",
       "      <td>1</td>\n",
       "      <td>Corporate Auto</td>\n",
       "      <td>Corporate L3</td>\n",
       "      <td>Offer1</td>\n",
       "      <td>Agent</td>\n",
       "      <td>384.811147</td>\n",
       "      <td>Two-Door Car</td>\n",
       "      <td>Medsize</td>\n",
       "    </tr>\n",
       "    <tr>\n",
       "      <th>1</th>\n",
       "      <td>QZ44356</td>\n",
       "      <td>Arizona</td>\n",
       "      <td>6979.535903</td>\n",
       "      <td>No</td>\n",
       "      <td>Extended</td>\n",
       "      <td>Bachelor</td>\n",
       "      <td>1/31/11</td>\n",
       "      <td>Unemployed</td>\n",
       "      <td>F</td>\n",
       "      <td>0</td>\n",
       "      <td>Suburban</td>\n",
       "      <td>Single</td>\n",
       "      <td>94</td>\n",
       "      <td>13</td>\n",
       "      <td>42</td>\n",
       "      <td>0</td>\n",
       "      <td>8</td>\n",
       "      <td>Personal Auto</td>\n",
       "      <td>Personal L3</td>\n",
       "      <td>Offer3</td>\n",
       "      <td>Agent</td>\n",
       "      <td>1131.464935</td>\n",
       "      <td>Four-Door Car</td>\n",
       "      <td>Medsize</td>\n",
       "    </tr>\n",
       "    <tr>\n",
       "      <th>2</th>\n",
       "      <td>AI49188</td>\n",
       "      <td>Nevada</td>\n",
       "      <td>12887.431650</td>\n",
       "      <td>No</td>\n",
       "      <td>Premium</td>\n",
       "      <td>Bachelor</td>\n",
       "      <td>2/19/11</td>\n",
       "      <td>Employed</td>\n",
       "      <td>F</td>\n",
       "      <td>48767</td>\n",
       "      <td>Suburban</td>\n",
       "      <td>Married</td>\n",
       "      <td>108</td>\n",
       "      <td>18</td>\n",
       "      <td>38</td>\n",
       "      <td>0</td>\n",
       "      <td>2</td>\n",
       "      <td>Personal Auto</td>\n",
       "      <td>Personal L3</td>\n",
       "      <td>Offer1</td>\n",
       "      <td>Agent</td>\n",
       "      <td>566.472247</td>\n",
       "      <td>Two-Door Car</td>\n",
       "      <td>Medsize</td>\n",
       "    </tr>\n",
       "    <tr>\n",
       "      <th>3</th>\n",
       "      <td>WW63253</td>\n",
       "      <td>California</td>\n",
       "      <td>7645.861827</td>\n",
       "      <td>No</td>\n",
       "      <td>Basic</td>\n",
       "      <td>Bachelor</td>\n",
       "      <td>1/20/11</td>\n",
       "      <td>Unemployed</td>\n",
       "      <td>M</td>\n",
       "      <td>0</td>\n",
       "      <td>Suburban</td>\n",
       "      <td>Married</td>\n",
       "      <td>106</td>\n",
       "      <td>18</td>\n",
       "      <td>65</td>\n",
       "      <td>0</td>\n",
       "      <td>7</td>\n",
       "      <td>Corporate Auto</td>\n",
       "      <td>Corporate L2</td>\n",
       "      <td>Offer1</td>\n",
       "      <td>Call Center</td>\n",
       "      <td>529.881344</td>\n",
       "      <td>SUV</td>\n",
       "      <td>Medsize</td>\n",
       "    </tr>\n",
       "    <tr>\n",
       "      <th>4</th>\n",
       "      <td>HB64268</td>\n",
       "      <td>Washington</td>\n",
       "      <td>2813.692575</td>\n",
       "      <td>No</td>\n",
       "      <td>Basic</td>\n",
       "      <td>Bachelor</td>\n",
       "      <td>2/3/11</td>\n",
       "      <td>Employed</td>\n",
       "      <td>M</td>\n",
       "      <td>43836</td>\n",
       "      <td>Rural</td>\n",
       "      <td>Single</td>\n",
       "      <td>73</td>\n",
       "      <td>12</td>\n",
       "      <td>44</td>\n",
       "      <td>0</td>\n",
       "      <td>1</td>\n",
       "      <td>Personal Auto</td>\n",
       "      <td>Personal L1</td>\n",
       "      <td>Offer1</td>\n",
       "      <td>Agent</td>\n",
       "      <td>138.130879</td>\n",
       "      <td>Four-Door Car</td>\n",
       "      <td>Medsize</td>\n",
       "    </tr>\n",
       "  </tbody>\n",
       "</table>\n",
       "</div>"
      ],
      "text/plain": [
       "  Customer       State  Customer Lifetime Value Response  Coverage Education  \\\n",
       "0  BU79786  Washington              2763.519279       No     Basic  Bachelor   \n",
       "1  QZ44356     Arizona              6979.535903       No  Extended  Bachelor   \n",
       "2  AI49188      Nevada             12887.431650       No   Premium  Bachelor   \n",
       "3  WW63253  California              7645.861827       No     Basic  Bachelor   \n",
       "4  HB64268  Washington              2813.692575       No     Basic  Bachelor   \n",
       "\n",
       "  Effective To Date EmploymentStatus Gender  Income Location Code  \\\n",
       "0           2/24/11         Employed      F   56274      Suburban   \n",
       "1           1/31/11       Unemployed      F       0      Suburban   \n",
       "2           2/19/11         Employed      F   48767      Suburban   \n",
       "3           1/20/11       Unemployed      M       0      Suburban   \n",
       "4            2/3/11         Employed      M   43836         Rural   \n",
       "\n",
       "  Marital Status  Monthly Premium Auto  Months Since Last Claim  \\\n",
       "0        Married                    69                       32   \n",
       "1         Single                    94                       13   \n",
       "2        Married                   108                       18   \n",
       "3        Married                   106                       18   \n",
       "4         Single                    73                       12   \n",
       "\n",
       "   Months Since Policy Inception  Number of Open Complaints  \\\n",
       "0                              5                          0   \n",
       "1                             42                          0   \n",
       "2                             38                          0   \n",
       "3                             65                          0   \n",
       "4                             44                          0   \n",
       "\n",
       "   Number of Policies     Policy Type        Policy Renew Offer Type  \\\n",
       "0                   1  Corporate Auto  Corporate L3           Offer1   \n",
       "1                   8   Personal Auto   Personal L3           Offer3   \n",
       "2                   2   Personal Auto   Personal L3           Offer1   \n",
       "3                   7  Corporate Auto  Corporate L2           Offer1   \n",
       "4                   1   Personal Auto   Personal L1           Offer1   \n",
       "\n",
       "  Sales Channel  Total Claim Amount  Vehicle Class Vehicle Size  \n",
       "0         Agent          384.811147   Two-Door Car      Medsize  \n",
       "1         Agent         1131.464935  Four-Door Car      Medsize  \n",
       "2         Agent          566.472247   Two-Door Car      Medsize  \n",
       "3   Call Center          529.881344            SUV      Medsize  \n",
       "4         Agent          138.130879  Four-Door Car      Medsize  "
      ]
     },
     "execution_count": 56,
     "metadata": {},
     "output_type": "execute_result"
    }
   ],
   "source": [
    "customer_df.head()"
   ]
  },
  {
   "cell_type": "code",
   "execution_count": 57,
   "id": "419d110d-a689-4d09-a9e1-18df30608813",
   "metadata": {},
   "outputs": [
    {
     "data": {
      "text/plain": [
       "(9134, 24)"
      ]
     },
     "execution_count": 57,
     "metadata": {},
     "output_type": "execute_result"
    }
   ],
   "source": [
    "customer_df.shape"
   ]
  },
  {
   "cell_type": "code",
   "execution_count": 58,
   "id": "2e9431a2-ecdd-4836-a4bd-96232c134e55",
   "metadata": {},
   "outputs": [
    {
     "name": "stdout",
     "output_type": "stream",
     "text": [
      "<class 'pandas.core.frame.DataFrame'>\n",
      "RangeIndex: 9134 entries, 0 to 9133\n",
      "Data columns (total 24 columns):\n",
      " #   Column                         Non-Null Count  Dtype  \n",
      "---  ------                         --------------  -----  \n",
      " 0   Customer                       9134 non-null   object \n",
      " 1   State                          9134 non-null   object \n",
      " 2   Customer Lifetime Value        9134 non-null   float64\n",
      " 3   Response                       9134 non-null   object \n",
      " 4   Coverage                       9134 non-null   object \n",
      " 5   Education                      9134 non-null   object \n",
      " 6   Effective To Date              9134 non-null   object \n",
      " 7   EmploymentStatus               9134 non-null   object \n",
      " 8   Gender                         9134 non-null   object \n",
      " 9   Income                         9134 non-null   int64  \n",
      " 10  Location Code                  9134 non-null   object \n",
      " 11  Marital Status                 9134 non-null   object \n",
      " 12  Monthly Premium Auto           9134 non-null   int64  \n",
      " 13  Months Since Last Claim        9134 non-null   int64  \n",
      " 14  Months Since Policy Inception  9134 non-null   int64  \n",
      " 15  Number of Open Complaints      9134 non-null   int64  \n",
      " 16  Number of Policies             9134 non-null   int64  \n",
      " 17  Policy Type                    9134 non-null   object \n",
      " 18  Policy                         9134 non-null   object \n",
      " 19  Renew Offer Type               9134 non-null   object \n",
      " 20  Sales Channel                  9134 non-null   object \n",
      " 21  Total Claim Amount             9134 non-null   float64\n",
      " 22  Vehicle Class                  9134 non-null   object \n",
      " 23  Vehicle Size                   9134 non-null   object \n",
      "dtypes: float64(2), int64(6), object(16)\n",
      "memory usage: 1.7+ MB\n"
     ]
    }
   ],
   "source": [
    "customer_df.info()"
   ]
  },
  {
   "cell_type": "markdown",
   "id": "407e1d74",
   "metadata": {},
   "source": [
    "### 4. Rename the columns so they follow the PE8 (snake case)."
   ]
  },
  {
   "cell_type": "code",
   "execution_count": 59,
   "id": "03540b59",
   "metadata": {},
   "outputs": [],
   "source": [
    "def clean_headers(df):\n",
    "    df.columns = df.columns.str.lower().str.strip().str.replace(' ', '_')\n",
    "    return df"
   ]
  },
  {
   "cell_type": "code",
   "execution_count": 60,
   "id": "a09647cc-267b-408e-b9ec-8517ba11e704",
   "metadata": {},
   "outputs": [
    {
     "data": {
      "text/plain": [
       "Index(['customer', 'state', 'customer_lifetime_value', 'response', 'coverage',\n",
       "       'education', 'effective_to_date', 'employment_status', 'gender',\n",
       "       'income', 'location_code', 'marital_status', 'monthly_premium_auto',\n",
       "       'months_since_last_claim', 'months_since_policy_inception',\n",
       "       'number_of_open_complaints', 'number_of_policies', 'policy_type',\n",
       "       'policy', 'renew_offer_type', 'sales_channel', 'total_claim_amount',\n",
       "       'vehicle_class', 'vehicle_size'],\n",
       "      dtype='object')"
      ]
     },
     "execution_count": 60,
     "metadata": {},
     "output_type": "execute_result"
    }
   ],
   "source": [
    "customer_df.rename(columns={'EmploymentStatus':'Employment Status'}, inplace=True)\n",
    "clean_headers(customer_df)\n",
    "\n",
    "customer_df.columns"
   ]
  },
  {
   "cell_type": "markdown",
   "id": "30a9d36f",
   "metadata": {},
   "source": [
    "### 5. Change effective to date column to datetime format."
   ]
  },
  {
   "cell_type": "code",
   "execution_count": 61,
   "id": "cb6e428f-f270-4d19-a382-548690d0f9e2",
   "metadata": {},
   "outputs": [
    {
     "data": {
      "text/plain": [
       "array(['2/24/11', '1/31/11', '2/19/11', '1/20/11', '2/3/11', '1/25/11',\n",
       "       '1/18/11', '1/26/11', '2/17/11', '2/21/11', '1/6/11', '2/6/11',\n",
       "       '1/10/11', '1/17/11', '1/5/11', '2/27/11', '1/14/11', '1/21/11',\n",
       "       '2/5/11', '1/29/11', '2/28/11', '2/12/11', '2/2/11', '2/7/11',\n",
       "       '1/22/11', '2/13/11', '1/15/11', '1/8/11', '1/11/11', '1/28/11',\n",
       "       '2/8/11', '2/23/11', '1/2/11', '2/16/11', '1/27/11', '1/23/11',\n",
       "       '1/9/11', '2/11/11', '2/4/11', '2/1/11', '2/15/11', '2/26/11',\n",
       "       '1/16/11', '1/1/11', '2/10/11', '1/24/11', '2/25/11', '1/12/11',\n",
       "       '2/9/11', '1/19/11', '1/4/11', '2/14/11', '2/20/11', '2/18/11',\n",
       "       '1/3/11', '1/13/11', '1/30/11', '2/22/11', '1/7/11'], dtype=object)"
      ]
     },
     "execution_count": 61,
     "metadata": {},
     "output_type": "execute_result"
    }
   ],
   "source": [
    "customer_df['effective_to_date'].unique()"
   ]
  },
  {
   "cell_type": "markdown",
   "id": "4b3cc9c1-2306-439b-b36e-117aea9f96fa",
   "metadata": {},
   "source": [
    "> The values in the column dont require cleaning before conversion into datetime "
   ]
  },
  {
   "cell_type": "code",
   "execution_count": 62,
   "id": "cd0ce652",
   "metadata": {},
   "outputs": [],
   "source": [
    "customer_df['effective_to_date'] = customer_df['effective_to_date'].apply(pd.to_datetime, errors='coerce')"
   ]
  },
  {
   "cell_type": "code",
   "execution_count": 63,
   "id": "f1652981-fea2-44e5-9612-16a1c9fc78f9",
   "metadata": {},
   "outputs": [
    {
     "data": {
      "text/plain": [
       "0"
      ]
     },
     "execution_count": 63,
     "metadata": {},
     "output_type": "execute_result"
    }
   ],
   "source": [
    "customer_df['effective_to_date'].isna().sum()"
   ]
  },
  {
   "cell_type": "markdown",
   "id": "60e33cbe",
   "metadata": {},
   "source": [
    "### 6. Check NaN values per column."
   ]
  },
  {
   "cell_type": "code",
   "execution_count": 64,
   "id": "f7a53dd5",
   "metadata": {},
   "outputs": [
    {
     "data": {
      "text/plain": [
       "customer                         0\n",
       "state                            0\n",
       "customer_lifetime_value          0\n",
       "response                         0\n",
       "coverage                         0\n",
       "education                        0\n",
       "effective_to_date                0\n",
       "employment_status                0\n",
       "gender                           0\n",
       "income                           0\n",
       "location_code                    0\n",
       "marital_status                   0\n",
       "monthly_premium_auto             0\n",
       "months_since_last_claim          0\n",
       "months_since_policy_inception    0\n",
       "number_of_open_complaints        0\n",
       "number_of_policies               0\n",
       "policy_type                      0\n",
       "policy                           0\n",
       "renew_offer_type                 0\n",
       "sales_channel                    0\n",
       "total_claim_amount               0\n",
       "vehicle_class                    0\n",
       "vehicle_size                     0\n",
       "dtype: int64"
      ]
     },
     "execution_count": 64,
     "metadata": {},
     "output_type": "execute_result"
    }
   ],
   "source": [
    "customer_df.isna().sum()"
   ]
  },
  {
   "cell_type": "code",
   "execution_count": 65,
   "id": "82956c1a-6817-47ad-8f1e-e384f2f2b6f4",
   "metadata": {},
   "outputs": [
    {
     "name": "stdout",
     "output_type": "stream",
     "text": [
      "customer_lifetime_value 0 \n",
      "\n",
      "income 2317 \n",
      "\n",
      "monthly_premium_auto 0 \n",
      "\n",
      "months_since_last_claim 314 \n",
      "\n",
      "months_since_policy_inception 83 \n",
      "\n",
      "number_of_open_complaints 7252 \n",
      "\n",
      "number_of_policies 0 \n",
      "\n",
      "total_claim_amount 0 \n",
      "\n"
     ]
    }
   ],
   "source": [
    "# checking for zeros to replace in numerical columns\n",
    "\n",
    "for column in customer_df.select_dtypes(np.number):\n",
    "    print(column, len(customer_df[customer_df[column] == 0]), '\\n')"
   ]
  },
  {
   "cell_type": "markdown",
   "id": "7b42475b-c1c8-4e72-8cdb-7b543162116b",
   "metadata": {},
   "source": [
    "> O as a value makes sense in all columns except probably in the income column. Replacing 0 with the median"
   ]
  },
  {
   "cell_type": "code",
   "execution_count": 66,
   "id": "88fe0bf8-68a6-4c6a-94f1-c93bc81ca3aa",
   "metadata": {},
   "outputs": [],
   "source": [
    "customer_df['income'] = customer_df['income'].fillna(customer_df['income'].median())"
   ]
  },
  {
   "cell_type": "markdown",
   "id": "b00cdcc1",
   "metadata": {},
   "source": [
    "### 7. Define a function that differentiates between continuous and discrete variables. Hint: A number of unique values might be useful. Store continuous data into a continuous variable and do the same for discrete and categorical."
   ]
  },
  {
   "cell_type": "code",
   "execution_count": 67,
   "id": "bde19dcd",
   "metadata": {},
   "outputs": [
    {
     "name": "stdout",
     "output_type": "stream",
     "text": [
      "customer 9134 object \n",
      "\n",
      "state 5 object \n",
      "\n",
      "customer_lifetime_value 8041 float64 \n",
      "\n",
      "response 2 object \n",
      "\n",
      "coverage 3 object \n",
      "\n",
      "education 5 object \n",
      "\n",
      "effective_to_date 59 datetime64[ns] \n",
      "\n",
      "employment_status 5 object \n",
      "\n",
      "gender 2 object \n",
      "\n",
      "income 5694 int64 \n",
      "\n",
      "location_code 3 object \n",
      "\n",
      "marital_status 3 object \n",
      "\n",
      "monthly_premium_auto 202 int64 \n",
      "\n",
      "months_since_last_claim 36 int64 \n",
      "\n",
      "months_since_policy_inception 100 int64 \n",
      "\n",
      "number_of_open_complaints 6 int64 \n",
      "\n",
      "number_of_policies 9 int64 \n",
      "\n",
      "policy_type 3 object \n",
      "\n",
      "policy 9 object \n",
      "\n",
      "renew_offer_type 4 object \n",
      "\n",
      "sales_channel 4 object \n",
      "\n",
      "total_claim_amount 5106 float64 \n",
      "\n",
      "vehicle_class 6 object \n",
      "\n",
      "vehicle_size 3 object \n",
      "\n"
     ]
    }
   ],
   "source": [
    "for column in customer_df.columns:\n",
    "    print(column, customer_df[column].nunique(), customer_df[column].dtypes, '\\n')"
   ]
  },
  {
   "cell_type": "markdown",
   "id": "7ffa1a0f-20fa-4f7f-82a4-2335486037f4",
   "metadata": {},
   "source": [
    "> For this dataset, to separate descrete from continuous variables, you can argue that a threshold of right above 200 unique values makes sense, to have 'monthly_premium_auto' still categorized as discrete. The lower threshold should be 6 to filter out the categorial values, accepting that 'number_of_open_complaints' gets recategorized because it also has only 6 unique values. "
   ]
  },
  {
   "cell_type": "code",
   "execution_count": 68,
   "id": "f37b6b1b-cd9a-49df-8bc0-e834ee721442",
   "metadata": {},
   "outputs": [],
   "source": [
    "def var_checker(df, cat, disc, skip_columns=[]):\n",
    "    df_cat = df.copy()\n",
    "    df_discrect = df.copy()\n",
    "    df_cont = df.copy()\n",
    "    \n",
    "    for column in df.columns:\n",
    "        if column not in skip_columns:\n",
    "            if df[column].nunique() <= cat:\n",
    "                df_cat[column] =  df_cat[column].astype('category')\n",
    "                df_discrect = df_discrect.drop(column, axis=1)\n",
    "                df_cont = df_cont.drop(column, axis=1)\n",
    "            elif (df[column].nunique() > cat) & (df[column].nunique() < disc):\n",
    "                df_cat = df_cat.drop(column, axis=1)\n",
    "                df_cont = df_cont.drop(column, axis=1)\n",
    "            else:\n",
    "                df_cat = df_cat.drop(column, axis=1)\n",
    "                df_discrect = df_discrect.drop(column, axis=1)\n",
    "    return df_cat, df_discrect, df_cont\n"
   ]
  },
  {
   "cell_type": "code",
   "execution_count": 69,
   "id": "f2973cd2-4e10-4202-8f75-ffe91ce075d9",
   "metadata": {},
   "outputs": [
    {
     "data": {
      "text/html": [
       "<div>\n",
       "<style scoped>\n",
       "    .dataframe tbody tr th:only-of-type {\n",
       "        vertical-align: middle;\n",
       "    }\n",
       "\n",
       "    .dataframe tbody tr th {\n",
       "        vertical-align: top;\n",
       "    }\n",
       "\n",
       "    .dataframe thead th {\n",
       "        text-align: right;\n",
       "    }\n",
       "</style>\n",
       "<table border=\"1\" class=\"dataframe\">\n",
       "  <thead>\n",
       "    <tr style=\"text-align: right;\">\n",
       "      <th></th>\n",
       "      <th>state</th>\n",
       "      <th>response</th>\n",
       "      <th>coverage</th>\n",
       "      <th>education</th>\n",
       "      <th>employment_status</th>\n",
       "      <th>gender</th>\n",
       "      <th>location_code</th>\n",
       "      <th>marital_status</th>\n",
       "      <th>number_of_open_complaints</th>\n",
       "      <th>policy_type</th>\n",
       "      <th>renew_offer_type</th>\n",
       "      <th>sales_channel</th>\n",
       "      <th>vehicle_class</th>\n",
       "      <th>vehicle_size</th>\n",
       "    </tr>\n",
       "  </thead>\n",
       "  <tbody>\n",
       "    <tr>\n",
       "      <th>0</th>\n",
       "      <td>Washington</td>\n",
       "      <td>No</td>\n",
       "      <td>Basic</td>\n",
       "      <td>Bachelor</td>\n",
       "      <td>Employed</td>\n",
       "      <td>F</td>\n",
       "      <td>Suburban</td>\n",
       "      <td>Married</td>\n",
       "      <td>0</td>\n",
       "      <td>Corporate Auto</td>\n",
       "      <td>Offer1</td>\n",
       "      <td>Agent</td>\n",
       "      <td>Two-Door Car</td>\n",
       "      <td>Medsize</td>\n",
       "    </tr>\n",
       "    <tr>\n",
       "      <th>1</th>\n",
       "      <td>Arizona</td>\n",
       "      <td>No</td>\n",
       "      <td>Extended</td>\n",
       "      <td>Bachelor</td>\n",
       "      <td>Unemployed</td>\n",
       "      <td>F</td>\n",
       "      <td>Suburban</td>\n",
       "      <td>Single</td>\n",
       "      <td>0</td>\n",
       "      <td>Personal Auto</td>\n",
       "      <td>Offer3</td>\n",
       "      <td>Agent</td>\n",
       "      <td>Four-Door Car</td>\n",
       "      <td>Medsize</td>\n",
       "    </tr>\n",
       "    <tr>\n",
       "      <th>2</th>\n",
       "      <td>Nevada</td>\n",
       "      <td>No</td>\n",
       "      <td>Premium</td>\n",
       "      <td>Bachelor</td>\n",
       "      <td>Employed</td>\n",
       "      <td>F</td>\n",
       "      <td>Suburban</td>\n",
       "      <td>Married</td>\n",
       "      <td>0</td>\n",
       "      <td>Personal Auto</td>\n",
       "      <td>Offer1</td>\n",
       "      <td>Agent</td>\n",
       "      <td>Two-Door Car</td>\n",
       "      <td>Medsize</td>\n",
       "    </tr>\n",
       "    <tr>\n",
       "      <th>3</th>\n",
       "      <td>California</td>\n",
       "      <td>No</td>\n",
       "      <td>Basic</td>\n",
       "      <td>Bachelor</td>\n",
       "      <td>Unemployed</td>\n",
       "      <td>M</td>\n",
       "      <td>Suburban</td>\n",
       "      <td>Married</td>\n",
       "      <td>0</td>\n",
       "      <td>Corporate Auto</td>\n",
       "      <td>Offer1</td>\n",
       "      <td>Call Center</td>\n",
       "      <td>SUV</td>\n",
       "      <td>Medsize</td>\n",
       "    </tr>\n",
       "    <tr>\n",
       "      <th>4</th>\n",
       "      <td>Washington</td>\n",
       "      <td>No</td>\n",
       "      <td>Basic</td>\n",
       "      <td>Bachelor</td>\n",
       "      <td>Employed</td>\n",
       "      <td>M</td>\n",
       "      <td>Rural</td>\n",
       "      <td>Single</td>\n",
       "      <td>0</td>\n",
       "      <td>Personal Auto</td>\n",
       "      <td>Offer1</td>\n",
       "      <td>Agent</td>\n",
       "      <td>Four-Door Car</td>\n",
       "      <td>Medsize</td>\n",
       "    </tr>\n",
       "  </tbody>\n",
       "</table>\n",
       "</div>"
      ],
      "text/plain": [
       "        state response  coverage education employment_status gender  \\\n",
       "0  Washington       No     Basic  Bachelor          Employed      F   \n",
       "1     Arizona       No  Extended  Bachelor        Unemployed      F   \n",
       "2      Nevada       No   Premium  Bachelor          Employed      F   \n",
       "3  California       No     Basic  Bachelor        Unemployed      M   \n",
       "4  Washington       No     Basic  Bachelor          Employed      M   \n",
       "\n",
       "  location_code marital_status number_of_open_complaints     policy_type  \\\n",
       "0      Suburban        Married                         0  Corporate Auto   \n",
       "1      Suburban         Single                         0   Personal Auto   \n",
       "2      Suburban        Married                         0   Personal Auto   \n",
       "3      Suburban        Married                         0  Corporate Auto   \n",
       "4         Rural         Single                         0   Personal Auto   \n",
       "\n",
       "  renew_offer_type sales_channel  vehicle_class vehicle_size  \n",
       "0           Offer1         Agent   Two-Door Car      Medsize  \n",
       "1           Offer3         Agent  Four-Door Car      Medsize  \n",
       "2           Offer1         Agent   Two-Door Car      Medsize  \n",
       "3           Offer1   Call Center            SUV      Medsize  \n",
       "4           Offer1         Agent  Four-Door Car      Medsize  "
      ]
     },
     "execution_count": 69,
     "metadata": {},
     "output_type": "execute_result"
    }
   ],
   "source": [
    "customer_cat, custumer_discret, custumer_cont = var_checker(customer_df, cat=6, disc=210)\n",
    "\n",
    "customer_cat.head()\n",
    "#custumer_discret.head()\n",
    "#custumer_cont.head()"
   ]
  },
  {
   "cell_type": "markdown",
   "id": "3f193f28",
   "metadata": {},
   "source": [
    "### 8. For the categorical data, check if there is some kind of text in a variable so we would need to clean it. Hint: Use the same method you used in step 7. Depending on the implementation, decide what to do with the variables you get."
   ]
  },
  {
   "cell_type": "code",
   "execution_count": 70,
   "id": "a9f34d23-cb9d-4d15-af04-f8573b72a281",
   "metadata": {},
   "outputs": [
    {
     "name": "stdout",
     "output_type": "stream",
     "text": [
      "customer ['BU79786' 'QZ44356' 'AI49188' ... 'TD14365' 'UP19263' 'Y167826'] \n",
      "\n",
      "state ['Washington' 'Arizona' 'Nevada' 'California' 'Oregon'] \n",
      "\n",
      "response ['No' 'Yes'] \n",
      "\n",
      "coverage ['Basic' 'Extended' 'Premium'] \n",
      "\n",
      "education ['Bachelor' 'College' 'Master' 'High School or Below' 'Doctor'] \n",
      "\n",
      "employment_status ['Employed' 'Unemployed' 'Medical Leave' 'Disabled' 'Retired'] \n",
      "\n",
      "gender ['F' 'M'] \n",
      "\n",
      "location_code ['Suburban' 'Rural' 'Urban'] \n",
      "\n",
      "marital_status ['Married' 'Single' 'Divorced'] \n",
      "\n",
      "policy_type ['Corporate Auto' 'Personal Auto' 'Special Auto'] \n",
      "\n",
      "policy ['Corporate L3' 'Personal L3' 'Corporate L2' 'Personal L1' 'Special L2'\n",
      " 'Corporate L1' 'Personal L2' 'Special L1' 'Special L3'] \n",
      "\n",
      "renew_offer_type ['Offer1' 'Offer3' 'Offer2' 'Offer4'] \n",
      "\n",
      "sales_channel ['Agent' 'Call Center' 'Web' 'Branch'] \n",
      "\n",
      "vehicle_class ['Two-Door Car' 'Four-Door Car' 'SUV' 'Luxury SUV' 'Sports Car'\n",
      " 'Luxury Car'] \n",
      "\n",
      "vehicle_size ['Medsize' 'Small' 'Large'] \n",
      "\n"
     ]
    }
   ],
   "source": [
    "# checking for values to clean in categorical columns\n",
    "\n",
    "for column in customer_df.select_dtypes(np.object):\n",
    "    print(column, customer_df[column].unique(), '\\n')"
   ]
  },
  {
   "cell_type": "markdown",
   "id": "9c2f332b-e009-45dd-9480-3053294e3afc",
   "metadata": {},
   "source": [
    "> no replacements neccessary"
   ]
  },
  {
   "cell_type": "markdown",
   "id": "b5e88313",
   "metadata": {},
   "source": [
    "### 9. Get categorical features."
   ]
  },
  {
   "cell_type": "code",
   "execution_count": 71,
   "id": "c6968c8e",
   "metadata": {},
   "outputs": [
    {
     "data": {
      "text/html": [
       "<div>\n",
       "<style scoped>\n",
       "    .dataframe tbody tr th:only-of-type {\n",
       "        vertical-align: middle;\n",
       "    }\n",
       "\n",
       "    .dataframe tbody tr th {\n",
       "        vertical-align: top;\n",
       "    }\n",
       "\n",
       "    .dataframe thead th {\n",
       "        text-align: right;\n",
       "    }\n",
       "</style>\n",
       "<table border=\"1\" class=\"dataframe\">\n",
       "  <thead>\n",
       "    <tr style=\"text-align: right;\">\n",
       "      <th></th>\n",
       "      <th>state</th>\n",
       "      <th>response</th>\n",
       "      <th>coverage</th>\n",
       "      <th>education</th>\n",
       "      <th>employment_status</th>\n",
       "      <th>gender</th>\n",
       "      <th>location_code</th>\n",
       "      <th>marital_status</th>\n",
       "      <th>number_of_open_complaints</th>\n",
       "      <th>policy_type</th>\n",
       "      <th>renew_offer_type</th>\n",
       "      <th>sales_channel</th>\n",
       "      <th>vehicle_class</th>\n",
       "      <th>vehicle_size</th>\n",
       "    </tr>\n",
       "  </thead>\n",
       "  <tbody>\n",
       "    <tr>\n",
       "      <th>0</th>\n",
       "      <td>Washington</td>\n",
       "      <td>No</td>\n",
       "      <td>Basic</td>\n",
       "      <td>Bachelor</td>\n",
       "      <td>Employed</td>\n",
       "      <td>F</td>\n",
       "      <td>Suburban</td>\n",
       "      <td>Married</td>\n",
       "      <td>0</td>\n",
       "      <td>Corporate Auto</td>\n",
       "      <td>Offer1</td>\n",
       "      <td>Agent</td>\n",
       "      <td>Two-Door Car</td>\n",
       "      <td>Medsize</td>\n",
       "    </tr>\n",
       "    <tr>\n",
       "      <th>1</th>\n",
       "      <td>Arizona</td>\n",
       "      <td>No</td>\n",
       "      <td>Extended</td>\n",
       "      <td>Bachelor</td>\n",
       "      <td>Unemployed</td>\n",
       "      <td>F</td>\n",
       "      <td>Suburban</td>\n",
       "      <td>Single</td>\n",
       "      <td>0</td>\n",
       "      <td>Personal Auto</td>\n",
       "      <td>Offer3</td>\n",
       "      <td>Agent</td>\n",
       "      <td>Four-Door Car</td>\n",
       "      <td>Medsize</td>\n",
       "    </tr>\n",
       "    <tr>\n",
       "      <th>2</th>\n",
       "      <td>Nevada</td>\n",
       "      <td>No</td>\n",
       "      <td>Premium</td>\n",
       "      <td>Bachelor</td>\n",
       "      <td>Employed</td>\n",
       "      <td>F</td>\n",
       "      <td>Suburban</td>\n",
       "      <td>Married</td>\n",
       "      <td>0</td>\n",
       "      <td>Personal Auto</td>\n",
       "      <td>Offer1</td>\n",
       "      <td>Agent</td>\n",
       "      <td>Two-Door Car</td>\n",
       "      <td>Medsize</td>\n",
       "    </tr>\n",
       "    <tr>\n",
       "      <th>3</th>\n",
       "      <td>California</td>\n",
       "      <td>No</td>\n",
       "      <td>Basic</td>\n",
       "      <td>Bachelor</td>\n",
       "      <td>Unemployed</td>\n",
       "      <td>M</td>\n",
       "      <td>Suburban</td>\n",
       "      <td>Married</td>\n",
       "      <td>0</td>\n",
       "      <td>Corporate Auto</td>\n",
       "      <td>Offer1</td>\n",
       "      <td>Call Center</td>\n",
       "      <td>SUV</td>\n",
       "      <td>Medsize</td>\n",
       "    </tr>\n",
       "    <tr>\n",
       "      <th>4</th>\n",
       "      <td>Washington</td>\n",
       "      <td>No</td>\n",
       "      <td>Basic</td>\n",
       "      <td>Bachelor</td>\n",
       "      <td>Employed</td>\n",
       "      <td>M</td>\n",
       "      <td>Rural</td>\n",
       "      <td>Single</td>\n",
       "      <td>0</td>\n",
       "      <td>Personal Auto</td>\n",
       "      <td>Offer1</td>\n",
       "      <td>Agent</td>\n",
       "      <td>Four-Door Car</td>\n",
       "      <td>Medsize</td>\n",
       "    </tr>\n",
       "  </tbody>\n",
       "</table>\n",
       "</div>"
      ],
      "text/plain": [
       "        state response  coverage education employment_status gender  \\\n",
       "0  Washington       No     Basic  Bachelor          Employed      F   \n",
       "1     Arizona       No  Extended  Bachelor        Unemployed      F   \n",
       "2      Nevada       No   Premium  Bachelor          Employed      F   \n",
       "3  California       No     Basic  Bachelor        Unemployed      M   \n",
       "4  Washington       No     Basic  Bachelor          Employed      M   \n",
       "\n",
       "  location_code marital_status number_of_open_complaints     policy_type  \\\n",
       "0      Suburban        Married                         0  Corporate Auto   \n",
       "1      Suburban         Single                         0   Personal Auto   \n",
       "2      Suburban        Married                         0   Personal Auto   \n",
       "3      Suburban        Married                         0  Corporate Auto   \n",
       "4         Rural         Single                         0   Personal Auto   \n",
       "\n",
       "  renew_offer_type sales_channel  vehicle_class vehicle_size  \n",
       "0           Offer1         Agent   Two-Door Car      Medsize  \n",
       "1           Offer3         Agent  Four-Door Car      Medsize  \n",
       "2           Offer1         Agent   Two-Door Car      Medsize  \n",
       "3           Offer1   Call Center            SUV      Medsize  \n",
       "4           Offer1         Agent  Four-Door Car      Medsize  "
      ]
     },
     "execution_count": 71,
     "metadata": {},
     "output_type": "execute_result"
    }
   ],
   "source": [
    "customer_cat.head()"
   ]
  },
  {
   "cell_type": "markdown",
   "id": "dfe80fc9",
   "metadata": {},
   "source": [
    "### 10. What should we do with the customer_id column?"
   ]
  },
  {
   "cell_type": "code",
   "execution_count": 72,
   "id": "ca721bb9",
   "metadata": {},
   "outputs": [],
   "source": [
    "customer_df.rename(columns={'customer':'id'}, inplace=True)\n",
    "customer_df = customer_df.set_index('id')"
   ]
  },
  {
   "cell_type": "code",
   "execution_count": 73,
   "id": "f242d512-ab88-4a1d-95f3-eb2d95ec4579",
   "metadata": {},
   "outputs": [
    {
     "data": {
      "text/html": [
       "<div>\n",
       "<style scoped>\n",
       "    .dataframe tbody tr th:only-of-type {\n",
       "        vertical-align: middle;\n",
       "    }\n",
       "\n",
       "    .dataframe tbody tr th {\n",
       "        vertical-align: top;\n",
       "    }\n",
       "\n",
       "    .dataframe thead th {\n",
       "        text-align: right;\n",
       "    }\n",
       "</style>\n",
       "<table border=\"1\" class=\"dataframe\">\n",
       "  <thead>\n",
       "    <tr style=\"text-align: right;\">\n",
       "      <th></th>\n",
       "      <th>state</th>\n",
       "      <th>customer_lifetime_value</th>\n",
       "      <th>response</th>\n",
       "      <th>coverage</th>\n",
       "      <th>education</th>\n",
       "      <th>effective_to_date</th>\n",
       "      <th>employment_status</th>\n",
       "      <th>gender</th>\n",
       "      <th>income</th>\n",
       "      <th>location_code</th>\n",
       "      <th>marital_status</th>\n",
       "      <th>monthly_premium_auto</th>\n",
       "      <th>months_since_last_claim</th>\n",
       "      <th>months_since_policy_inception</th>\n",
       "      <th>number_of_open_complaints</th>\n",
       "      <th>number_of_policies</th>\n",
       "      <th>policy_type</th>\n",
       "      <th>policy</th>\n",
       "      <th>renew_offer_type</th>\n",
       "      <th>sales_channel</th>\n",
       "      <th>total_claim_amount</th>\n",
       "      <th>vehicle_class</th>\n",
       "      <th>vehicle_size</th>\n",
       "    </tr>\n",
       "    <tr>\n",
       "      <th>id</th>\n",
       "      <th></th>\n",
       "      <th></th>\n",
       "      <th></th>\n",
       "      <th></th>\n",
       "      <th></th>\n",
       "      <th></th>\n",
       "      <th></th>\n",
       "      <th></th>\n",
       "      <th></th>\n",
       "      <th></th>\n",
       "      <th></th>\n",
       "      <th></th>\n",
       "      <th></th>\n",
       "      <th></th>\n",
       "      <th></th>\n",
       "      <th></th>\n",
       "      <th></th>\n",
       "      <th></th>\n",
       "      <th></th>\n",
       "      <th></th>\n",
       "      <th></th>\n",
       "      <th></th>\n",
       "      <th></th>\n",
       "    </tr>\n",
       "  </thead>\n",
       "  <tbody>\n",
       "    <tr>\n",
       "      <th>BU79786</th>\n",
       "      <td>Washington</td>\n",
       "      <td>2763.519279</td>\n",
       "      <td>No</td>\n",
       "      <td>Basic</td>\n",
       "      <td>Bachelor</td>\n",
       "      <td>2011-02-24</td>\n",
       "      <td>Employed</td>\n",
       "      <td>F</td>\n",
       "      <td>56274</td>\n",
       "      <td>Suburban</td>\n",
       "      <td>Married</td>\n",
       "      <td>69</td>\n",
       "      <td>32</td>\n",
       "      <td>5</td>\n",
       "      <td>0</td>\n",
       "      <td>1</td>\n",
       "      <td>Corporate Auto</td>\n",
       "      <td>Corporate L3</td>\n",
       "      <td>Offer1</td>\n",
       "      <td>Agent</td>\n",
       "      <td>384.811147</td>\n",
       "      <td>Two-Door Car</td>\n",
       "      <td>Medsize</td>\n",
       "    </tr>\n",
       "    <tr>\n",
       "      <th>QZ44356</th>\n",
       "      <td>Arizona</td>\n",
       "      <td>6979.535903</td>\n",
       "      <td>No</td>\n",
       "      <td>Extended</td>\n",
       "      <td>Bachelor</td>\n",
       "      <td>2011-01-31</td>\n",
       "      <td>Unemployed</td>\n",
       "      <td>F</td>\n",
       "      <td>0</td>\n",
       "      <td>Suburban</td>\n",
       "      <td>Single</td>\n",
       "      <td>94</td>\n",
       "      <td>13</td>\n",
       "      <td>42</td>\n",
       "      <td>0</td>\n",
       "      <td>8</td>\n",
       "      <td>Personal Auto</td>\n",
       "      <td>Personal L3</td>\n",
       "      <td>Offer3</td>\n",
       "      <td>Agent</td>\n",
       "      <td>1131.464935</td>\n",
       "      <td>Four-Door Car</td>\n",
       "      <td>Medsize</td>\n",
       "    </tr>\n",
       "    <tr>\n",
       "      <th>AI49188</th>\n",
       "      <td>Nevada</td>\n",
       "      <td>12887.431650</td>\n",
       "      <td>No</td>\n",
       "      <td>Premium</td>\n",
       "      <td>Bachelor</td>\n",
       "      <td>2011-02-19</td>\n",
       "      <td>Employed</td>\n",
       "      <td>F</td>\n",
       "      <td>48767</td>\n",
       "      <td>Suburban</td>\n",
       "      <td>Married</td>\n",
       "      <td>108</td>\n",
       "      <td>18</td>\n",
       "      <td>38</td>\n",
       "      <td>0</td>\n",
       "      <td>2</td>\n",
       "      <td>Personal Auto</td>\n",
       "      <td>Personal L3</td>\n",
       "      <td>Offer1</td>\n",
       "      <td>Agent</td>\n",
       "      <td>566.472247</td>\n",
       "      <td>Two-Door Car</td>\n",
       "      <td>Medsize</td>\n",
       "    </tr>\n",
       "    <tr>\n",
       "      <th>WW63253</th>\n",
       "      <td>California</td>\n",
       "      <td>7645.861827</td>\n",
       "      <td>No</td>\n",
       "      <td>Basic</td>\n",
       "      <td>Bachelor</td>\n",
       "      <td>2011-01-20</td>\n",
       "      <td>Unemployed</td>\n",
       "      <td>M</td>\n",
       "      <td>0</td>\n",
       "      <td>Suburban</td>\n",
       "      <td>Married</td>\n",
       "      <td>106</td>\n",
       "      <td>18</td>\n",
       "      <td>65</td>\n",
       "      <td>0</td>\n",
       "      <td>7</td>\n",
       "      <td>Corporate Auto</td>\n",
       "      <td>Corporate L2</td>\n",
       "      <td>Offer1</td>\n",
       "      <td>Call Center</td>\n",
       "      <td>529.881344</td>\n",
       "      <td>SUV</td>\n",
       "      <td>Medsize</td>\n",
       "    </tr>\n",
       "    <tr>\n",
       "      <th>HB64268</th>\n",
       "      <td>Washington</td>\n",
       "      <td>2813.692575</td>\n",
       "      <td>No</td>\n",
       "      <td>Basic</td>\n",
       "      <td>Bachelor</td>\n",
       "      <td>2011-02-03</td>\n",
       "      <td>Employed</td>\n",
       "      <td>M</td>\n",
       "      <td>43836</td>\n",
       "      <td>Rural</td>\n",
       "      <td>Single</td>\n",
       "      <td>73</td>\n",
       "      <td>12</td>\n",
       "      <td>44</td>\n",
       "      <td>0</td>\n",
       "      <td>1</td>\n",
       "      <td>Personal Auto</td>\n",
       "      <td>Personal L1</td>\n",
       "      <td>Offer1</td>\n",
       "      <td>Agent</td>\n",
       "      <td>138.130879</td>\n",
       "      <td>Four-Door Car</td>\n",
       "      <td>Medsize</td>\n",
       "    </tr>\n",
       "  </tbody>\n",
       "</table>\n",
       "</div>"
      ],
      "text/plain": [
       "              state  customer_lifetime_value response  coverage education  \\\n",
       "id                                                                          \n",
       "BU79786  Washington              2763.519279       No     Basic  Bachelor   \n",
       "QZ44356     Arizona              6979.535903       No  Extended  Bachelor   \n",
       "AI49188      Nevada             12887.431650       No   Premium  Bachelor   \n",
       "WW63253  California              7645.861827       No     Basic  Bachelor   \n",
       "HB64268  Washington              2813.692575       No     Basic  Bachelor   \n",
       "\n",
       "        effective_to_date employment_status gender  income location_code  \\\n",
       "id                                                                         \n",
       "BU79786        2011-02-24          Employed      F   56274      Suburban   \n",
       "QZ44356        2011-01-31        Unemployed      F       0      Suburban   \n",
       "AI49188        2011-02-19          Employed      F   48767      Suburban   \n",
       "WW63253        2011-01-20        Unemployed      M       0      Suburban   \n",
       "HB64268        2011-02-03          Employed      M   43836         Rural   \n",
       "\n",
       "        marital_status  monthly_premium_auto  months_since_last_claim  \\\n",
       "id                                                                      \n",
       "BU79786        Married                    69                       32   \n",
       "QZ44356         Single                    94                       13   \n",
       "AI49188        Married                   108                       18   \n",
       "WW63253        Married                   106                       18   \n",
       "HB64268         Single                    73                       12   \n",
       "\n",
       "         months_since_policy_inception  number_of_open_complaints  \\\n",
       "id                                                                  \n",
       "BU79786                              5                          0   \n",
       "QZ44356                             42                          0   \n",
       "AI49188                             38                          0   \n",
       "WW63253                             65                          0   \n",
       "HB64268                             44                          0   \n",
       "\n",
       "         number_of_policies     policy_type        policy renew_offer_type  \\\n",
       "id                                                                           \n",
       "BU79786                   1  Corporate Auto  Corporate L3           Offer1   \n",
       "QZ44356                   8   Personal Auto   Personal L3           Offer3   \n",
       "AI49188                   2   Personal Auto   Personal L3           Offer1   \n",
       "WW63253                   7  Corporate Auto  Corporate L2           Offer1   \n",
       "HB64268                   1   Personal Auto   Personal L1           Offer1   \n",
       "\n",
       "        sales_channel  total_claim_amount  vehicle_class vehicle_size  \n",
       "id                                                                     \n",
       "BU79786         Agent          384.811147   Two-Door Car      Medsize  \n",
       "QZ44356         Agent         1131.464935  Four-Door Car      Medsize  \n",
       "AI49188         Agent          566.472247   Two-Door Car      Medsize  \n",
       "WW63253   Call Center          529.881344            SUV      Medsize  \n",
       "HB64268         Agent          138.130879  Four-Door Car      Medsize  "
      ]
     },
     "execution_count": 73,
     "metadata": {},
     "output_type": "execute_result"
    }
   ],
   "source": [
    "customer_df.head()"
   ]
  },
  {
   "cell_type": "code",
   "execution_count": 74,
   "id": "2b0173fe-6b5e-45db-932c-72093fe153b1",
   "metadata": {},
   "outputs": [],
   "source": [
    "# creating a df with numerical columns for tansformation tests later in lab 4.06\n",
    "\n",
    "customer_num = customer_df.select_dtypes(include=[np.number])"
   ]
  },
  {
   "cell_type": "markdown",
   "id": "a3883295-be9c-442f-9c31-6b75c3e6bfe5",
   "metadata": {},
   "source": [
    "# Lab | Feature extraction"
   ]
  },
  {
   "cell_type": "markdown",
   "id": "c2c7a5d6-5473-4cf1-9445-626e4221c061",
   "metadata": {},
   "source": [
    "For this lab, we will be using the same dataset we used in the previous labs. We recommend using the same notebook since you will be reusing the same variables you previous created and used in labs."
   ]
  },
  {
   "cell_type": "markdown",
   "id": "a511173a-5950-442f-be12-63459ee270b9",
   "metadata": {},
   "source": [
    "## 1. Open the categoricals variable we created before."
   ]
  },
  {
   "cell_type": "code",
   "execution_count": 75,
   "id": "fa214c81-4542-431d-a6d6-3522b5e55dcf",
   "metadata": {},
   "outputs": [
    {
     "data": {
      "text/html": [
       "<div>\n",
       "<style scoped>\n",
       "    .dataframe tbody tr th:only-of-type {\n",
       "        vertical-align: middle;\n",
       "    }\n",
       "\n",
       "    .dataframe tbody tr th {\n",
       "        vertical-align: top;\n",
       "    }\n",
       "\n",
       "    .dataframe thead th {\n",
       "        text-align: right;\n",
       "    }\n",
       "</style>\n",
       "<table border=\"1\" class=\"dataframe\">\n",
       "  <thead>\n",
       "    <tr style=\"text-align: right;\">\n",
       "      <th></th>\n",
       "      <th>state</th>\n",
       "      <th>response</th>\n",
       "      <th>coverage</th>\n",
       "      <th>education</th>\n",
       "      <th>employment_status</th>\n",
       "      <th>gender</th>\n",
       "      <th>location_code</th>\n",
       "      <th>marital_status</th>\n",
       "      <th>number_of_open_complaints</th>\n",
       "      <th>policy_type</th>\n",
       "      <th>renew_offer_type</th>\n",
       "      <th>sales_channel</th>\n",
       "      <th>vehicle_class</th>\n",
       "      <th>vehicle_size</th>\n",
       "    </tr>\n",
       "  </thead>\n",
       "  <tbody>\n",
       "    <tr>\n",
       "      <th>0</th>\n",
       "      <td>Washington</td>\n",
       "      <td>No</td>\n",
       "      <td>Basic</td>\n",
       "      <td>Bachelor</td>\n",
       "      <td>Employed</td>\n",
       "      <td>F</td>\n",
       "      <td>Suburban</td>\n",
       "      <td>Married</td>\n",
       "      <td>0</td>\n",
       "      <td>Corporate Auto</td>\n",
       "      <td>Offer1</td>\n",
       "      <td>Agent</td>\n",
       "      <td>Two-Door Car</td>\n",
       "      <td>Medsize</td>\n",
       "    </tr>\n",
       "    <tr>\n",
       "      <th>1</th>\n",
       "      <td>Arizona</td>\n",
       "      <td>No</td>\n",
       "      <td>Extended</td>\n",
       "      <td>Bachelor</td>\n",
       "      <td>Unemployed</td>\n",
       "      <td>F</td>\n",
       "      <td>Suburban</td>\n",
       "      <td>Single</td>\n",
       "      <td>0</td>\n",
       "      <td>Personal Auto</td>\n",
       "      <td>Offer3</td>\n",
       "      <td>Agent</td>\n",
       "      <td>Four-Door Car</td>\n",
       "      <td>Medsize</td>\n",
       "    </tr>\n",
       "    <tr>\n",
       "      <th>2</th>\n",
       "      <td>Nevada</td>\n",
       "      <td>No</td>\n",
       "      <td>Premium</td>\n",
       "      <td>Bachelor</td>\n",
       "      <td>Employed</td>\n",
       "      <td>F</td>\n",
       "      <td>Suburban</td>\n",
       "      <td>Married</td>\n",
       "      <td>0</td>\n",
       "      <td>Personal Auto</td>\n",
       "      <td>Offer1</td>\n",
       "      <td>Agent</td>\n",
       "      <td>Two-Door Car</td>\n",
       "      <td>Medsize</td>\n",
       "    </tr>\n",
       "    <tr>\n",
       "      <th>3</th>\n",
       "      <td>California</td>\n",
       "      <td>No</td>\n",
       "      <td>Basic</td>\n",
       "      <td>Bachelor</td>\n",
       "      <td>Unemployed</td>\n",
       "      <td>M</td>\n",
       "      <td>Suburban</td>\n",
       "      <td>Married</td>\n",
       "      <td>0</td>\n",
       "      <td>Corporate Auto</td>\n",
       "      <td>Offer1</td>\n",
       "      <td>Call Center</td>\n",
       "      <td>SUV</td>\n",
       "      <td>Medsize</td>\n",
       "    </tr>\n",
       "    <tr>\n",
       "      <th>4</th>\n",
       "      <td>Washington</td>\n",
       "      <td>No</td>\n",
       "      <td>Basic</td>\n",
       "      <td>Bachelor</td>\n",
       "      <td>Employed</td>\n",
       "      <td>M</td>\n",
       "      <td>Rural</td>\n",
       "      <td>Single</td>\n",
       "      <td>0</td>\n",
       "      <td>Personal Auto</td>\n",
       "      <td>Offer1</td>\n",
       "      <td>Agent</td>\n",
       "      <td>Four-Door Car</td>\n",
       "      <td>Medsize</td>\n",
       "    </tr>\n",
       "  </tbody>\n",
       "</table>\n",
       "</div>"
      ],
      "text/plain": [
       "        state response  coverage education employment_status gender  \\\n",
       "0  Washington       No     Basic  Bachelor          Employed      F   \n",
       "1     Arizona       No  Extended  Bachelor        Unemployed      F   \n",
       "2      Nevada       No   Premium  Bachelor          Employed      F   \n",
       "3  California       No     Basic  Bachelor        Unemployed      M   \n",
       "4  Washington       No     Basic  Bachelor          Employed      M   \n",
       "\n",
       "  location_code marital_status number_of_open_complaints     policy_type  \\\n",
       "0      Suburban        Married                         0  Corporate Auto   \n",
       "1      Suburban         Single                         0   Personal Auto   \n",
       "2      Suburban        Married                         0   Personal Auto   \n",
       "3      Suburban        Married                         0  Corporate Auto   \n",
       "4         Rural         Single                         0   Personal Auto   \n",
       "\n",
       "  renew_offer_type sales_channel  vehicle_class vehicle_size  \n",
       "0           Offer1         Agent   Two-Door Car      Medsize  \n",
       "1           Offer3         Agent  Four-Door Car      Medsize  \n",
       "2           Offer1         Agent   Two-Door Car      Medsize  \n",
       "3           Offer1   Call Center            SUV      Medsize  \n",
       "4           Offer1         Agent  Four-Door Car      Medsize  "
      ]
     },
     "execution_count": 75,
     "metadata": {},
     "output_type": "execute_result"
    }
   ],
   "source": [
    "customer_cat.head()"
   ]
  },
  {
   "cell_type": "markdown",
   "id": "4b9c905f-3b61-48fa-abef-97725a588375",
   "metadata": {},
   "source": [
    "## 2. Plot all the categorical variables with the proper plot. What can you see?"
   ]
  },
  {
   "cell_type": "code",
   "execution_count": 76,
   "id": "6acd01f4-95d5-498c-bd78-677564db38d6",
   "metadata": {},
   "outputs": [
    {
     "data": {
      "image/png": "[encoded data removed]",
      "text/plain": [
       "<Figure size 576x360 with 1 Axes>"
      ]
     },
     "metadata": {
      "needs_background": "light"
     },
     "output_type": "display_data"
    },
    {
     "data": {
      "image/png": "[encoded data removed]",
      "text/plain": [
       "<Figure size 576x360 with 1 Axes>"
      ]
     },
     "metadata": {
      "needs_background": "light"
     },
     "output_type": "display_data"
    },
    {
     "data": {
      "image/png": "[encoded data removed]",
      "text/plain": [
       "<Figure size 576x360 with 1 Axes>"
      ]
     },
     "metadata": {
      "needs_background": "light"
     },
     "output_type": "display_data"
    },
    {
     "data": {
      "image/png": "[encoded data removed]",
      "text/plain": [
       "<Figure size 576x360 with 1 Axes>"
      ]
     },
     "metadata": {
      "needs_background": "light"
     },
     "output_type": "display_data"
    },
    {
     "data": {
      "image/png": "[encoded data removed]",
      "text/plain": [
       "<Figure size 576x360 with 1 Axes>"
      ]
     },
     "metadata": {
      "needs_background": "light"
     },
     "output_type": "display_data"
    },
    {
     "data": {
      "image/png": "[encoded data removed]",
      "text/plain": [
       "<Figure size 576x360 with 1 Axes>"
      ]
     },
     "metadata": {
      "needs_background": "light"
     },
     "output_type": "display_data"
    },
    {
     "data": {
      "image/png": "[encoded data removed]",
      "text/plain": [
       "<Figure size 576x360 with 1 Axes>"
      ]
     },
     "metadata": {
      "needs_background": "light"
     },
     "output_type": "display_data"
    },
    {
     "data": {
      "image/png": "[encoded data removed]",
      "text/plain": [
       "<Figure size 576x360 with 1 Axes>"
      ]
     },
     "metadata": {
      "needs_background": "light"
     },
     "output_type": "display_data"
    },
    {
     "data": {
      "image/png": "[encoded data removed]",
      "text/plain": [
       "<Figure size 576x360 with 1 Axes>"
      ]
     },
     "metadata": {
      "needs_background": "light"
     },
     "output_type": "display_data"
    },
    {
     "data": {
      "image/png": "[encoded data removed]",
      "text/plain": [
       "<Figure size 576x360 with 1 Axes>"
      ]
     },
     "metadata": {
      "needs_background": "light"
     },
     "output_type": "display_data"
    },
    {
     "data": {
      "image/png": "[encoded data removed]",
      "text/plain": [
       "<Figure size 576x360 with 1 Axes>"
      ]
     },
     "metadata": {
      "needs_background": "light"
     },
     "output_type": "display_data"
    },
    {
     "data": {
      "image/png": "[encoded data removed]",
      "text/plain": [
       "<Figure size 576x360 with 1 Axes>"
      ]
     },
     "metadata": {
      "needs_background": "light"
     },
     "output_type": "display_data"
    },
    {
     "data": {
      "image/png": "[encoded data removed]",
      "text/plain": [
       "<Figure size 576x360 with 1 Axes>"
      ]
     },
     "metadata": {
      "needs_background": "light"
     },
     "output_type": "display_data"
    },
    {
     "data": {
      "image/png": "[encoded data removed]",
      "text/plain": [
       "<Figure size 576x360 with 1 Axes>"
      ]
     },
     "metadata": {
      "needs_background": "light"
     },
     "output_type": "display_data"
    }
   ],
   "source": [
    "for column in customer_cat:\n",
    "    plt.figure(figsize=(8,5))\n",
    "    sns.countplot(x=customer_cat[column])\n",
    "    plt.show()"
   ]
  },
  {
   "cell_type": "markdown",
   "id": "40d9420c-402e-4143-92f2-4ed300f778a9",
   "metadata": {},
   "source": [
    "Judging by simple count plots the values in most columns show no particular distribution, that provide any deeper insight into the data. For some columns you can still argue that some preprocessing can make sense to simplify the data.\n",
    "\n",
    "- response:\n",
    "    A large majority of values is 'no'. In a very large dataset you could consider dropping the column, since it is highly skewed towards one value and therefore might not have a big impact on a prediction\n",
    "- no of open complaints:\n",
    "    Values larger than 1 occour not that often. You could group them to simplify the data\n",
    "- Some columns have similar value distributions to other columns\n",
    "    - Married - Vehicle size - policy type\n",
    "    - Renew offer type - sales channel\n",
    "\n",
    "    In the next step I check their relation with each other to check if there are redundancies \n",
    "    "
   ]
  },
  {
   "cell_type": "markdown",
   "id": "b4532d1b-ef23-4782-8f9f-b9446d04e4d1",
   "metadata": {},
   "source": [
    "## 3. There might be some columns that seem to be redundant, check their values to be sure. What should we do with them?"
   ]
  },
  {
   "cell_type": "code",
   "execution_count": 77,
   "id": "d625acb2-b34a-4dbd-95c5-14dad71f2d16",
   "metadata": {},
   "outputs": [
    {
     "data": {
      "image/png": "[encoded data removed]",
      "text/plain": [
       "<Figure size 576x360 with 1 Axes>"
      ]
     },
     "metadata": {
      "needs_background": "light"
     },
     "output_type": "display_data"
    }
   ],
   "source": [
    "plt.figure(figsize=(8,5))\n",
    "sns.countplot(x=customer_cat['sales_channel'], hue=customer_cat['renew_offer_type'])\n",
    "plt.show()"
   ]
  },
  {
   "cell_type": "markdown",
   "id": "c4706a8e-0d9b-4773-b254-5038d4b09d47",
   "metadata": {},
   "source": [
    "The distrbution for 'renew_offer_type' are similar for sales channels 'agent' and 'branch' as for 'call center' and 'web'. If they are similar enough to suggest that the offer type is independent from the sales channel is still hard to say."
   ]
  },
  {
   "cell_type": "code",
   "execution_count": 78,
   "id": "83c9cc1e-ef99-488f-860d-59a93155b223",
   "metadata": {},
   "outputs": [
    {
     "data": {
      "image/png": "[encoded data removed]",
      "text/plain": [
       "<Figure size 576x360 with 1 Axes>"
      ]
     },
     "metadata": {
      "needs_background": "light"
     },
     "output_type": "display_data"
    }
   ],
   "source": [
    "plt.figure(figsize=(8,5))\n",
    "sns.countplot(x=customer_cat['vehicle_size'], hue=customer_cat['policy_type'])\n",
    "plt.show()"
   ]
  },
  {
   "cell_type": "code",
   "execution_count": 79,
   "id": "1b88fb7e-553b-4be9-982c-d2fdeb2efadd",
   "metadata": {},
   "outputs": [
    {
     "data": {
      "image/png": "[encoded data removed]",
      "text/plain": [
       "<Figure size 576x360 with 1 Axes>"
      ]
     },
     "metadata": {
      "needs_background": "light"
     },
     "output_type": "display_data"
    }
   ],
   "source": [
    "plt.figure(figsize=(8,5))\n",
    "sns.countplot(x=customer_cat['vehicle_size'], hue=customer_cat['vehicle_class'])\n",
    "plt.show()"
   ]
  },
  {
   "cell_type": "markdown",
   "id": "984bf213-1ba2-4a0c-a306-19ed0eda62e4",
   "metadata": {},
   "source": [
    "Despite their similar distributions, policy types are very similarly distributed across all vehicle sizes. The same is true for vehicle class, not supporting the assumption that vehicle size and class are redunduant.\n",
    "\n",
    "> The relation examples I checked to find clear redundancies, turn out to be not clear at all. To make a more sound decision if columns could be dropped, a more in depth analysis is nesseccary, such as chi-squared. "
   ]
  },
  {
   "cell_type": "markdown",
   "id": "8dd59dd8-6829-48ca-9bf7-53609ba18efb",
   "metadata": {},
   "source": [
    "## 4. Plot time variable. Can you extract something from it?"
   ]
  },
  {
   "cell_type": "code",
   "execution_count": 80,
   "id": "2ab44f01-0295-4ef8-9c53-e35ae4a2135c",
   "metadata": {},
   "outputs": [
    {
     "data": {
      "image/png": "[encoded data removed]",
      "text/plain": [
       "<Figure size 1440x576 with 1 Axes>"
      ]
     },
     "metadata": {
      "needs_background": "light"
     },
     "output_type": "display_data"
    }
   ],
   "source": [
    "customer_df['effective_to_date'] = customer_df['effective_to_date'].apply(pd.to_datetime, errors='coerce')\n",
    "\n",
    "plt.figure(figsize=(20,8))\n",
    "todate_chart = sns.countplot(\n",
    "    data=customer_df,\n",
    "    x='effective_to_date',\n",
    "    palette='flare'\n",
    ")\n",
    "\n",
    "todate_chart.set_xticklabels(todate_chart.get_xticklabels(), rotation=45, horizontalalignment='right')\n",
    "\n",
    "None\n"
   ]
  },
  {
   "cell_type": "markdown",
   "id": "4c0395ca-74db-4336-a400-c35aedf1c7de",
   "metadata": {},
   "source": [
    "Didn't manage to get the dates in the right order"
   ]
  },
  {
   "cell_type": "code",
   "execution_count": null,
   "id": "793e55b2-5451-4c53-b8af-a286a35f01a3",
   "metadata": {},
   "outputs": [],
   "source": []
  },
  {
   "cell_type": "markdown",
   "id": "8e388c57-b347-4c43-bfb5-ef7c98130af0",
   "metadata": {},
   "source": [
    "# Lab | Data cleaning and wrangling"
   ]
  },
  {
   "cell_type": "markdown",
   "id": "ef2fcbec-b8ce-47da-bb56-35e7ec73ba3a",
   "metadata": {},
   "source": [
    "For this lab, we will be using the same dataset we used in the previous labs. We recommend using the same notebook since you will be reusing the same variables you previous created and used in labs."
   ]
  },
  {
   "cell_type": "markdown",
   "id": "156698de-69b5-4373-965a-5694627334dd",
   "metadata": {},
   "source": [
    "### 1. We will start with removing outliers. So far, we have discussed different methods to remove outliers. Use the one you feel more comfortable with, define a function for that. Use the function to remove the outliers and apply it to the dataframe."
   ]
  },
  {
   "cell_type": "code",
   "execution_count": 81,
   "id": "6dade7d9-5592-4c97-9908-4f999e9d424e",
   "metadata": {},
   "outputs": [],
   "source": [
    "import scipy.stats as stats\n",
    "from scipy.stats import norm\n",
    "from scipy.special import inv_boxcox\n",
    "from sklearn.preprocessing import OneHotEncoder, Normalizer, StandardScaler, LabelEncoder\n",
    "import pickle\n"
   ]
  },
  {
   "cell_type": "code",
   "execution_count": 82,
   "id": "bfc948f9-2ed6-4f7c-aef9-8cc1a27f5ac6",
   "metadata": {},
   "outputs": [
    {
     "data": {
      "image/png": "[encoded data removed]",
      "text/plain": [
       "<Figure size 576x360 with 1 Axes>"
      ]
     },
     "metadata": {
      "needs_background": "light"
     },
     "output_type": "display_data"
    },
    {
     "data": {
      "image/png": "[encoded data removed]",
      "text/plain": [
       "<Figure size 576x360 with 1 Axes>"
      ]
     },
     "metadata": {
      "needs_background": "light"
     },
     "output_type": "display_data"
    },
    {
     "data": {
      "image/png": "[encoded data removed]",
      "text/plain": [
       "<Figure size 576x360 with 1 Axes>"
      ]
     },
     "metadata": {
      "needs_background": "light"
     },
     "output_type": "display_data"
    },
    {
     "data": {
      "image/png": "[encoded data removed]",
      "text/plain": [
       "<Figure size 576x360 with 1 Axes>"
      ]
     },
     "metadata": {
      "needs_background": "light"
     },
     "output_type": "display_data"
    },
    {
     "data": {
      "image/png": "[encoded data removed]",
      "text/plain": [
       "<Figure size 576x360 with 1 Axes>"
      ]
     },
     "metadata": {
      "needs_background": "light"
     },
     "output_type": "display_data"
    },
    {
     "data": {
      "image/png": "[encoded data removed]",
      "text/plain": [
       "<Figure size 576x360 with 1 Axes>"
      ]
     },
     "metadata": {
      "needs_background": "light"
     },
     "output_type": "display_data"
    },
    {
     "data": {
      "image/png": "[encoded data removed]",
      "text/plain": [
       "<Figure size 576x360 with 1 Axes>"
      ]
     },
     "metadata": {
      "needs_background": "light"
     },
     "output_type": "display_data"
    },
    {
     "data": {
      "image/png": "[encoded data removed]",
      "text/plain": [
       "<Figure size 576x360 with 1 Axes>"
      ]
     },
     "metadata": {
      "needs_background": "light"
     },
     "output_type": "display_data"
    }
   ],
   "source": [
    "for column in customer_df.select_dtypes(np.number):\n",
    "    plt.figure(figsize=(8,5))\n",
    "    sns.boxplot(customer_df[column])\n",
    "    plt.show()"
   ]
  },
  {
   "cell_type": "code",
   "execution_count": 83,
   "id": "cf71a478-5fb9-442b-910f-dfcb9b5d2163",
   "metadata": {},
   "outputs": [],
   "source": [
    "def replace_outliers(df, threshold=1.5, in_columns=[], skip_columns=[], median_repl=[]):\n",
    "    for column in in_columns:\n",
    "        if column not in skip_columns:\n",
    "            upper = np.percentile(df[column],75)\n",
    "            lower = np.percentile(df[column],25)\n",
    "            iqr = upper - lower\n",
    "            upper_limit = upper + (threshold * iqr)\n",
    "            lower_limit = lower - (threshold * iqr)\n",
    "            \n",
    "            if column not in median_repl:\n",
    "                df.loc[df[column] > upper_limit, column] = upper_limit\n",
    "                df.loc[df[column] < lower_limit, column] = lower_limit\n",
    "            else:\n",
    "                df.loc[df[column] > upper_limit, column] = df[column].median()\n",
    "                df.loc[df[column] < lower_limit, column] = df[column].median()\n",
    "    return df"
   ]
  },
  {
   "cell_type": "code",
   "execution_count": 84,
   "id": "327fd89e-683e-4cf2-aba4-48de84737485",
   "metadata": {},
   "outputs": [],
   "source": [
    "num_columns = list(customer_df.select_dtypes(include=[np.number]).columns.values)\n",
    "\n",
    "customer_df = replace_outliers(customer_df, in_columns=num_columns, skip_columns=['income', 'months_since_last_claim', 'months_since_policy_inception', 'number_of_open_complaints'], median_repl=num_columns)"
   ]
  },
  {
   "cell_type": "code",
   "execution_count": 85,
   "id": "4e989a8e-0b94-4dd2-8c1d-c6e47979aa99",
   "metadata": {},
   "outputs": [
    {
     "data": {
      "image/png": "[encoded data removed]",
      "text/plain": [
       "<Figure size 576x360 with 1 Axes>"
      ]
     },
     "metadata": {
      "needs_background": "light"
     },
     "output_type": "display_data"
    },
    {
     "data": {
      "image/png": "[encoded data removed]",
      "text/plain": [
       "<Figure size 576x360 with 1 Axes>"
      ]
     },
     "metadata": {
      "needs_background": "light"
     },
     "output_type": "display_data"
    },
    {
     "data": {
      "image/png": "[encoded data removed]",
      "text/plain": [
       "<Figure size 576x360 with 1 Axes>"
      ]
     },
     "metadata": {
      "needs_background": "light"
     },
     "output_type": "display_data"
    },
    {
     "data": {
      "image/png": "[encoded data removed]",
      "text/plain": [
       "<Figure size 576x360 with 1 Axes>"
      ]
     },
     "metadata": {
      "needs_background": "light"
     },
     "output_type": "display_data"
    },
    {
     "data": {
      "image/png": "[encoded data removed]",
      "text/plain": [
       "<Figure size 576x360 with 1 Axes>"
      ]
     },
     "metadata": {
      "needs_background": "light"
     },
     "output_type": "display_data"
    },
    {
     "data": {
      "image/png": "[encoded data removed]",
      "text/plain": [
       "<Figure size 576x360 with 1 Axes>"
      ]
     },
     "metadata": {
      "needs_background": "light"
     },
     "output_type": "display_data"
    },
    {
     "data": {
      "image/png": "[encoded data removed]",
      "text/plain": [
       "<Figure size 576x360 with 1 Axes>"
      ]
     },
     "metadata": {
      "needs_background": "light"
     },
     "output_type": "display_data"
    },
    {
     "data": {
      "image/png": "[encoded data removed]",
      "text/plain": [
       "<Figure size 576x360 with 1 Axes>"
      ]
     },
     "metadata": {
      "needs_background": "light"
     },
     "output_type": "display_data"
    }
   ],
   "source": [
    "for column in customer_df.select_dtypes(np.number):\n",
    "    plt.figure(figsize=(8,5))\n",
    "    sns.boxplot(customer_df[column])\n",
    "    plt.show()"
   ]
  },
  {
   "cell_type": "markdown",
   "id": "caaf27bb-42cd-4b4b-9e02-38e0ba220e76",
   "metadata": {},
   "source": [
    "### 2. Create a copy of the dataframe for the data wrangling."
   ]
  },
  {
   "cell_type": "code",
   "execution_count": 86,
   "id": "ebb96a56-f293-4db6-b037-139e87b08355",
   "metadata": {},
   "outputs": [],
   "source": [
    "customer_df2 = customer_df.copy()"
   ]
  },
  {
   "cell_type": "markdown",
   "id": "d914a59f-a3e3-41f1-a887-390e00382df4",
   "metadata": {},
   "source": [
    "### 3. Normalize the continuous variables. You can use any one method you want."
   ]
  },
  {
   "cell_type": "code",
   "execution_count": 87,
   "id": "5669218e-af6d-402c-a620-f36ecf711b8c",
   "metadata": {},
   "outputs": [],
   "source": [
    "df2_num = customer_df2.select_dtypes(include=[np.number])\n"
   ]
  },
  {
   "cell_type": "code",
   "execution_count": 88,
   "id": "5d31de12-867d-4a4d-a4d7-8580c9c35ad1",
   "metadata": {},
   "outputs": [
    {
     "data": {
      "text/html": [
       "<div>\n",
       "<style scoped>\n",
       "    .dataframe tbody tr th:only-of-type {\n",
       "        vertical-align: middle;\n",
       "    }\n",
       "\n",
       "    .dataframe tbody tr th {\n",
       "        vertical-align: top;\n",
       "    }\n",
       "\n",
       "    .dataframe thead th {\n",
       "        text-align: right;\n",
       "    }\n",
       "</style>\n",
       "<table border=\"1\" class=\"dataframe\">\n",
       "  <thead>\n",
       "    <tr style=\"text-align: right;\">\n",
       "      <th></th>\n",
       "      <th>customer_lifetime_value</th>\n",
       "      <th>income</th>\n",
       "      <th>monthly_premium_auto</th>\n",
       "      <th>months_since_last_claim</th>\n",
       "      <th>months_since_policy_inception</th>\n",
       "      <th>number_of_open_complaints</th>\n",
       "      <th>number_of_policies</th>\n",
       "      <th>total_claim_amount</th>\n",
       "    </tr>\n",
       "    <tr>\n",
       "      <th>id</th>\n",
       "      <th></th>\n",
       "      <th></th>\n",
       "      <th></th>\n",
       "      <th></th>\n",
       "      <th></th>\n",
       "      <th></th>\n",
       "      <th></th>\n",
       "      <th></th>\n",
       "    </tr>\n",
       "  </thead>\n",
       "  <tbody>\n",
       "    <tr>\n",
       "      <th>BU79786</th>\n",
       "      <td>-1.121421</td>\n",
       "      <td>0.612827</td>\n",
       "      <td>-0.821791</td>\n",
       "      <td>1.678099</td>\n",
       "      <td>-1.543287</td>\n",
       "      <td>-0.42225</td>\n",
       "      <td>-0.824187</td>\n",
       "      <td>-0.023907</td>\n",
       "    </tr>\n",
       "    <tr>\n",
       "      <th>QZ44356</th>\n",
       "      <td>0.240692</td>\n",
       "      <td>-1.239617</td>\n",
       "      <td>0.296267</td>\n",
       "      <td>-0.208186</td>\n",
       "      <td>-0.217334</td>\n",
       "      <td>-0.42225</td>\n",
       "      <td>2.677963</td>\n",
       "      <td>-0.028112</td>\n",
       "    </tr>\n",
       "    <tr>\n",
       "      <th>AI49188</th>\n",
       "      <td>2.149419</td>\n",
       "      <td>0.365710</td>\n",
       "      <td>0.922380</td>\n",
       "      <td>0.288205</td>\n",
       "      <td>-0.360680</td>\n",
       "      <td>-0.42225</td>\n",
       "      <td>-0.323880</td>\n",
       "      <td>0.858487</td>\n",
       "    </tr>\n",
       "    <tr>\n",
       "      <th>WW63253</th>\n",
       "      <td>0.455969</td>\n",
       "      <td>-1.239617</td>\n",
       "      <td>0.832935</td>\n",
       "      <td>0.288205</td>\n",
       "      <td>0.606907</td>\n",
       "      <td>-0.42225</td>\n",
       "      <td>2.177656</td>\n",
       "      <td>0.680752</td>\n",
       "    </tr>\n",
       "    <tr>\n",
       "      <th>HB64268</th>\n",
       "      <td>-1.105211</td>\n",
       "      <td>0.203390</td>\n",
       "      <td>-0.642902</td>\n",
       "      <td>-0.307465</td>\n",
       "      <td>-0.145661</td>\n",
       "      <td>-0.42225</td>\n",
       "      <td>-0.824187</td>\n",
       "      <td>-1.222123</td>\n",
       "    </tr>\n",
       "  </tbody>\n",
       "</table>\n",
       "</div>"
      ],
      "text/plain": [
       "         customer_lifetime_value    income  monthly_premium_auto  \\\n",
       "id                                                                 \n",
       "BU79786                -1.121421  0.612827             -0.821791   \n",
       "QZ44356                 0.240692 -1.239617              0.296267   \n",
       "AI49188                 2.149419  0.365710              0.922380   \n",
       "WW63253                 0.455969 -1.239617              0.832935   \n",
       "HB64268                -1.105211  0.203390             -0.642902   \n",
       "\n",
       "         months_since_last_claim  months_since_policy_inception  \\\n",
       "id                                                                \n",
       "BU79786                 1.678099                      -1.543287   \n",
       "QZ44356                -0.208186                      -0.217334   \n",
       "AI49188                 0.288205                      -0.360680   \n",
       "WW63253                 0.288205                       0.606907   \n",
       "HB64268                -0.307465                      -0.145661   \n",
       "\n",
       "         number_of_open_complaints  number_of_policies  total_claim_amount  \n",
       "id                                                                          \n",
       "BU79786                   -0.42225           -0.824187           -0.023907  \n",
       "QZ44356                   -0.42225            2.677963           -0.028112  \n",
       "AI49188                   -0.42225           -0.323880            0.858487  \n",
       "WW63253                   -0.42225            2.177656            0.680752  \n",
       "HB64268                   -0.42225           -0.824187           -1.222123  "
      ]
     },
     "execution_count": 88,
     "metadata": {},
     "output_type": "execute_result"
    }
   ],
   "source": [
    "stsc_transformer = StandardScaler() \n",
    "stsc_transformer.fit(df2_num) \n",
    "\n",
    "with open('ss_transformer.pkl', 'wb') as file:\n",
    "    pickle.dump(stsc_transformer, file)\n",
    "\n",
    "with open('ss_transformer.pkl', 'rb') as file:\n",
    "    stsc_transformer = pickle.load(file)\n",
    "\n",
    "data_normalized = stsc_transformer.transform(df2_num)\n",
    "\n",
    "df2_numnorm = pd.DataFrame(data_normalized, index=df2_num.index, columns=df2_num.columns)\n",
    "df2_numnorm.head()"
   ]
  },
  {
   "cell_type": "markdown",
   "id": "275ba0e0-8180-48f0-86e3-20f4423a5e4f",
   "metadata": {},
   "source": [
    "### 4. Encode the categorical variables"
   ]
  },
  {
   "cell_type": "code",
   "execution_count": 89,
   "id": "60319db5-9ab6-45c4-9a0c-ef33af1722ab",
   "metadata": {},
   "outputs": [
    {
     "name": "stdout",
     "output_type": "stream",
     "text": [
      "state ['Washington' 'Arizona' 'Nevada' 'California' 'Oregon'] \n",
      "\n",
      "response ['No' 'Yes'] \n",
      "\n",
      "coverage ['Basic' 'Extended' 'Premium'] \n",
      "\n",
      "education ['Bachelor' 'College' 'Master' 'High School or Below' 'Doctor'] \n",
      "\n",
      "employment_status ['Employed' 'Unemployed' 'Medical Leave' 'Disabled' 'Retired'] \n",
      "\n",
      "gender ['F' 'M'] \n",
      "\n",
      "location_code ['Suburban' 'Rural' 'Urban'] \n",
      "\n",
      "marital_status ['Married' 'Single' 'Divorced'] \n",
      "\n",
      "policy_type ['Corporate Auto' 'Personal Auto' 'Special Auto'] \n",
      "\n",
      "policy ['Corporate L3' 'Personal L3' 'Corporate L2' 'Personal L1' 'Special L2'\n",
      " 'Corporate L1' 'Personal L2' 'Special L1' 'Special L3'] \n",
      "\n",
      "renew_offer_type ['Offer1' 'Offer3' 'Offer2' 'Offer4'] \n",
      "\n",
      "sales_channel ['Agent' 'Call Center' 'Web' 'Branch'] \n",
      "\n",
      "vehicle_class ['Two-Door Car' 'Four-Door Car' 'SUV' 'Luxury SUV' 'Sports Car'\n",
      " 'Luxury Car'] \n",
      "\n",
      "vehicle_size ['Medsize' 'Small' 'Large'] \n",
      "\n"
     ]
    }
   ],
   "source": [
    "df2_cat = customer_df2.select_dtypes(include=[np.object])\n",
    "\n",
    "for column in df2_cat:\n",
    "    print(column, df2_cat[column].unique(), '\\n')"
   ]
  },
  {
   "cell_type": "markdown",
   "id": "a6cec594-a540-4232-8d27-20e6b32afda0",
   "metadata": {},
   "source": [
    "variables for OneHot encoding:\n",
    "\n",
    "- state\n",
    "- respone\n",
    "- gender\n",
    "- marital status\n",
    "- policy type\n",
    "- policy\n",
    "- renew offer type\n",
    "- sales channel\n",
    "- vehicle class"
   ]
  },
  {
   "cell_type": "code",
   "execution_count": 90,
   "id": "102540c1-39d3-42d4-bbaf-1bda3a6a3354",
   "metadata": {},
   "outputs": [
    {
     "data": {
      "text/html": [
       "<div>\n",
       "<style scoped>\n",
       "    .dataframe tbody tr th:only-of-type {\n",
       "        vertical-align: middle;\n",
       "    }\n",
       "\n",
       "    .dataframe tbody tr th {\n",
       "        vertical-align: top;\n",
       "    }\n",
       "\n",
       "    .dataframe thead th {\n",
       "        text-align: right;\n",
       "    }\n",
       "</style>\n",
       "<table border=\"1\" class=\"dataframe\">\n",
       "  <thead>\n",
       "    <tr style=\"text-align: right;\">\n",
       "      <th></th>\n",
       "      <th>state_California</th>\n",
       "      <th>state_Nevada</th>\n",
       "      <th>state_Oregon</th>\n",
       "      <th>state_Washington</th>\n",
       "      <th>response_Yes</th>\n",
       "      <th>gender_M</th>\n",
       "      <th>marital_status_Married</th>\n",
       "      <th>marital_status_Single</th>\n",
       "      <th>policy_type_Personal Auto</th>\n",
       "      <th>policy_type_Special Auto</th>\n",
       "      <th>policy_Corporate L2</th>\n",
       "      <th>policy_Corporate L3</th>\n",
       "      <th>policy_Personal L1</th>\n",
       "      <th>policy_Personal L2</th>\n",
       "      <th>policy_Personal L3</th>\n",
       "      <th>policy_Special L1</th>\n",
       "      <th>policy_Special L2</th>\n",
       "      <th>policy_Special L3</th>\n",
       "      <th>renew_offer_type_Offer2</th>\n",
       "      <th>renew_offer_type_Offer3</th>\n",
       "      <th>renew_offer_type_Offer4</th>\n",
       "      <th>sales_channel_Branch</th>\n",
       "      <th>sales_channel_Call Center</th>\n",
       "      <th>sales_channel_Web</th>\n",
       "      <th>vehicle_class_Luxury Car</th>\n",
       "      <th>vehicle_class_Luxury SUV</th>\n",
       "      <th>vehicle_class_SUV</th>\n",
       "      <th>vehicle_class_Sports Car</th>\n",
       "      <th>vehicle_class_Two-Door Car</th>\n",
       "    </tr>\n",
       "    <tr>\n",
       "      <th>id</th>\n",
       "      <th></th>\n",
       "      <th></th>\n",
       "      <th></th>\n",
       "      <th></th>\n",
       "      <th></th>\n",
       "      <th></th>\n",
       "      <th></th>\n",
       "      <th></th>\n",
       "      <th></th>\n",
       "      <th></th>\n",
       "      <th></th>\n",
       "      <th></th>\n",
       "      <th></th>\n",
       "      <th></th>\n",
       "      <th></th>\n",
       "      <th></th>\n",
       "      <th></th>\n",
       "      <th></th>\n",
       "      <th></th>\n",
       "      <th></th>\n",
       "      <th></th>\n",
       "      <th></th>\n",
       "      <th></th>\n",
       "      <th></th>\n",
       "      <th></th>\n",
       "      <th></th>\n",
       "      <th></th>\n",
       "      <th></th>\n",
       "      <th></th>\n",
       "    </tr>\n",
       "  </thead>\n",
       "  <tbody>\n",
       "    <tr>\n",
       "      <th>BU79786</th>\n",
       "      <td>0</td>\n",
       "      <td>0</td>\n",
       "      <td>0</td>\n",
       "      <td>1</td>\n",
       "      <td>0</td>\n",
       "      <td>0</td>\n",
       "      <td>1</td>\n",
       "      <td>0</td>\n",
       "      <td>0</td>\n",
       "      <td>0</td>\n",
       "      <td>0</td>\n",
       "      <td>1</td>\n",
       "      <td>0</td>\n",
       "      <td>0</td>\n",
       "      <td>0</td>\n",
       "      <td>0</td>\n",
       "      <td>0</td>\n",
       "      <td>0</td>\n",
       "      <td>0</td>\n",
       "      <td>0</td>\n",
       "      <td>0</td>\n",
       "      <td>0</td>\n",
       "      <td>0</td>\n",
       "      <td>0</td>\n",
       "      <td>0</td>\n",
       "      <td>0</td>\n",
       "      <td>0</td>\n",
       "      <td>0</td>\n",
       "      <td>1</td>\n",
       "    </tr>\n",
       "    <tr>\n",
       "      <th>QZ44356</th>\n",
       "      <td>0</td>\n",
       "      <td>0</td>\n",
       "      <td>0</td>\n",
       "      <td>0</td>\n",
       "      <td>0</td>\n",
       "      <td>0</td>\n",
       "      <td>0</td>\n",
       "      <td>1</td>\n",
       "      <td>1</td>\n",
       "      <td>0</td>\n",
       "      <td>0</td>\n",
       "      <td>0</td>\n",
       "      <td>0</td>\n",
       "      <td>0</td>\n",
       "      <td>1</td>\n",
       "      <td>0</td>\n",
       "      <td>0</td>\n",
       "      <td>0</td>\n",
       "      <td>0</td>\n",
       "      <td>1</td>\n",
       "      <td>0</td>\n",
       "      <td>0</td>\n",
       "      <td>0</td>\n",
       "      <td>0</td>\n",
       "      <td>0</td>\n",
       "      <td>0</td>\n",
       "      <td>0</td>\n",
       "      <td>0</td>\n",
       "      <td>0</td>\n",
       "    </tr>\n",
       "    <tr>\n",
       "      <th>AI49188</th>\n",
       "      <td>0</td>\n",
       "      <td>1</td>\n",
       "      <td>0</td>\n",
       "      <td>0</td>\n",
       "      <td>0</td>\n",
       "      <td>0</td>\n",
       "      <td>1</td>\n",
       "      <td>0</td>\n",
       "      <td>1</td>\n",
       "      <td>0</td>\n",
       "      <td>0</td>\n",
       "      <td>0</td>\n",
       "      <td>0</td>\n",
       "      <td>0</td>\n",
       "      <td>1</td>\n",
       "      <td>0</td>\n",
       "      <td>0</td>\n",
       "      <td>0</td>\n",
       "      <td>0</td>\n",
       "      <td>0</td>\n",
       "      <td>0</td>\n",
       "      <td>0</td>\n",
       "      <td>0</td>\n",
       "      <td>0</td>\n",
       "      <td>0</td>\n",
       "      <td>0</td>\n",
       "      <td>0</td>\n",
       "      <td>0</td>\n",
       "      <td>1</td>\n",
       "    </tr>\n",
       "    <tr>\n",
       "      <th>WW63253</th>\n",
       "      <td>1</td>\n",
       "      <td>0</td>\n",
       "      <td>0</td>\n",
       "      <td>0</td>\n",
       "      <td>0</td>\n",
       "      <td>1</td>\n",
       "      <td>1</td>\n",
       "      <td>0</td>\n",
       "      <td>0</td>\n",
       "      <td>0</td>\n",
       "      <td>1</td>\n",
       "      <td>0</td>\n",
       "      <td>0</td>\n",
       "      <td>0</td>\n",
       "      <td>0</td>\n",
       "      <td>0</td>\n",
       "      <td>0</td>\n",
       "      <td>0</td>\n",
       "      <td>0</td>\n",
       "      <td>0</td>\n",
       "      <td>0</td>\n",
       "      <td>0</td>\n",
       "      <td>1</td>\n",
       "      <td>0</td>\n",
       "      <td>0</td>\n",
       "      <td>0</td>\n",
       "      <td>1</td>\n",
       "      <td>0</td>\n",
       "      <td>0</td>\n",
       "    </tr>\n",
       "    <tr>\n",
       "      <th>HB64268</th>\n",
       "      <td>0</td>\n",
       "      <td>0</td>\n",
       "      <td>0</td>\n",
       "      <td>1</td>\n",
       "      <td>0</td>\n",
       "      <td>1</td>\n",
       "      <td>0</td>\n",
       "      <td>1</td>\n",
       "      <td>1</td>\n",
       "      <td>0</td>\n",
       "      <td>0</td>\n",
       "      <td>0</td>\n",
       "      <td>1</td>\n",
       "      <td>0</td>\n",
       "      <td>0</td>\n",
       "      <td>0</td>\n",
       "      <td>0</td>\n",
       "      <td>0</td>\n",
       "      <td>0</td>\n",
       "      <td>0</td>\n",
       "      <td>0</td>\n",
       "      <td>0</td>\n",
       "      <td>0</td>\n",
       "      <td>0</td>\n",
       "      <td>0</td>\n",
       "      <td>0</td>\n",
       "      <td>0</td>\n",
       "      <td>0</td>\n",
       "      <td>0</td>\n",
       "    </tr>\n",
       "  </tbody>\n",
       "</table>\n",
       "</div>"
      ],
      "text/plain": [
       "         state_California  state_Nevada  state_Oregon  state_Washington  \\\n",
       "id                                                                        \n",
       "BU79786                 0             0             0                 1   \n",
       "QZ44356                 0             0             0                 0   \n",
       "AI49188                 0             1             0                 0   \n",
       "WW63253                 1             0             0                 0   \n",
       "HB64268                 0             0             0                 1   \n",
       "\n",
       "         response_Yes  gender_M  marital_status_Married  \\\n",
       "id                                                        \n",
       "BU79786             0         0                       1   \n",
       "QZ44356             0         0                       0   \n",
       "AI49188             0         0                       1   \n",
       "WW63253             0         1                       1   \n",
       "HB64268             0         1                       0   \n",
       "\n",
       "         marital_status_Single  policy_type_Personal Auto  \\\n",
       "id                                                          \n",
       "BU79786                      0                          0   \n",
       "QZ44356                      1                          1   \n",
       "AI49188                      0                          1   \n",
       "WW63253                      0                          0   \n",
       "HB64268                      1                          1   \n",
       "\n",
       "         policy_type_Special Auto  policy_Corporate L2  policy_Corporate L3  \\\n",
       "id                                                                            \n",
       "BU79786                         0                    0                    1   \n",
       "QZ44356                         0                    0                    0   \n",
       "AI49188                         0                    0                    0   \n",
       "WW63253                         0                    1                    0   \n",
       "HB64268                         0                    0                    0   \n",
       "\n",
       "         policy_Personal L1  policy_Personal L2  policy_Personal L3  \\\n",
       "id                                                                    \n",
       "BU79786                   0                   0                   0   \n",
       "QZ44356                   0                   0                   1   \n",
       "AI49188                   0                   0                   1   \n",
       "WW63253                   0                   0                   0   \n",
       "HB64268                   1                   0                   0   \n",
       "\n",
       "         policy_Special L1  policy_Special L2  policy_Special L3  \\\n",
       "id                                                                 \n",
       "BU79786                  0                  0                  0   \n",
       "QZ44356                  0                  0                  0   \n",
       "AI49188                  0                  0                  0   \n",
       "WW63253                  0                  0                  0   \n",
       "HB64268                  0                  0                  0   \n",
       "\n",
       "         renew_offer_type_Offer2  renew_offer_type_Offer3  \\\n",
       "id                                                          \n",
       "BU79786                        0                        0   \n",
       "QZ44356                        0                        1   \n",
       "AI49188                        0                        0   \n",
       "WW63253                        0                        0   \n",
       "HB64268                        0                        0   \n",
       "\n",
       "         renew_offer_type_Offer4  sales_channel_Branch  \\\n",
       "id                                                       \n",
       "BU79786                        0                     0   \n",
       "QZ44356                        0                     0   \n",
       "AI49188                        0                     0   \n",
       "WW63253                        0                     0   \n",
       "HB64268                        0                     0   \n",
       "\n",
       "         sales_channel_Call Center  sales_channel_Web  \\\n",
       "id                                                      \n",
       "BU79786                          0                  0   \n",
       "QZ44356                          0                  0   \n",
       "AI49188                          0                  0   \n",
       "WW63253                          1                  0   \n",
       "HB64268                          0                  0   \n",
       "\n",
       "         vehicle_class_Luxury Car  vehicle_class_Luxury SUV  \\\n",
       "id                                                            \n",
       "BU79786                         0                         0   \n",
       "QZ44356                         0                         0   \n",
       "AI49188                         0                         0   \n",
       "WW63253                         0                         0   \n",
       "HB64268                         0                         0   \n",
       "\n",
       "         vehicle_class_SUV  vehicle_class_Sports Car  \\\n",
       "id                                                     \n",
       "BU79786                  0                         0   \n",
       "QZ44356                  0                         0   \n",
       "AI49188                  0                         0   \n",
       "WW63253                  1                         0   \n",
       "HB64268                  0                         0   \n",
       "\n",
       "         vehicle_class_Two-Door Car  \n",
       "id                                   \n",
       "BU79786                           1  \n",
       "QZ44356                           0  \n",
       "AI49188                           1  \n",
       "WW63253                           0  \n",
       "HB64268                           0  "
      ]
     },
     "execution_count": 90,
     "metadata": {},
     "output_type": "execute_result"
    }
   ],
   "source": [
    "# OneHot encoding\n",
    "\n",
    "df2_onehot = df2_cat.drop(['coverage','education', 'employment_status', 'location_code', 'vehicle_size'], axis=1)\n",
    "df2_onehot = pd.get_dummies(df2_onehot, drop_first=True)\n",
    "\n",
    "df2_onehot.head()"
   ]
  },
  {
   "cell_type": "markdown",
   "id": "cfb86e07-b95a-4370-9610-542f5aa6d8d3",
   "metadata": {},
   "source": [
    "variables for ordinal encoding:\n",
    "\n",
    "- coverage\n",
    "- education\n",
    "- employment status\n",
    "- location code\n",
    "- vehicle size"
   ]
  },
  {
   "cell_type": "code",
   "execution_count": 91,
   "id": "0683f2c5-604b-4b87-a835-9d3b9786f91a",
   "metadata": {},
   "outputs": [
    {
     "data": {
      "text/html": [
       "<div>\n",
       "<style scoped>\n",
       "    .dataframe tbody tr th:only-of-type {\n",
       "        vertical-align: middle;\n",
       "    }\n",
       "\n",
       "    .dataframe tbody tr th {\n",
       "        vertical-align: top;\n",
       "    }\n",
       "\n",
       "    .dataframe thead th {\n",
       "        text-align: right;\n",
       "    }\n",
       "</style>\n",
       "<table border=\"1\" class=\"dataframe\">\n",
       "  <thead>\n",
       "    <tr style=\"text-align: right;\">\n",
       "      <th></th>\n",
       "      <th>coverage</th>\n",
       "      <th>education</th>\n",
       "      <th>employment_status</th>\n",
       "      <th>location_code</th>\n",
       "      <th>vehicle_size</th>\n",
       "    </tr>\n",
       "    <tr>\n",
       "      <th>id</th>\n",
       "      <th></th>\n",
       "      <th></th>\n",
       "      <th></th>\n",
       "      <th></th>\n",
       "      <th></th>\n",
       "    </tr>\n",
       "  </thead>\n",
       "  <tbody>\n",
       "    <tr>\n",
       "      <th>BU79786</th>\n",
       "      <td>1</td>\n",
       "      <td>3</td>\n",
       "      <td>4</td>\n",
       "      <td>2</td>\n",
       "      <td>2</td>\n",
       "    </tr>\n",
       "    <tr>\n",
       "      <th>QZ44356</th>\n",
       "      <td>2</td>\n",
       "      <td>3</td>\n",
       "      <td>1</td>\n",
       "      <td>2</td>\n",
       "      <td>2</td>\n",
       "    </tr>\n",
       "    <tr>\n",
       "      <th>AI49188</th>\n",
       "      <td>3</td>\n",
       "      <td>3</td>\n",
       "      <td>4</td>\n",
       "      <td>2</td>\n",
       "      <td>2</td>\n",
       "    </tr>\n",
       "    <tr>\n",
       "      <th>WW63253</th>\n",
       "      <td>1</td>\n",
       "      <td>3</td>\n",
       "      <td>1</td>\n",
       "      <td>2</td>\n",
       "      <td>2</td>\n",
       "    </tr>\n",
       "    <tr>\n",
       "      <th>HB64268</th>\n",
       "      <td>1</td>\n",
       "      <td>3</td>\n",
       "      <td>4</td>\n",
       "      <td>1</td>\n",
       "      <td>2</td>\n",
       "    </tr>\n",
       "  </tbody>\n",
       "</table>\n",
       "</div>"
      ],
      "text/plain": [
       "         coverage  education  employment_status  location_code  vehicle_size\n",
       "id                                                                          \n",
       "BU79786         1          3                  4              2             2\n",
       "QZ44356         2          3                  1              2             2\n",
       "AI49188         3          3                  4              2             2\n",
       "WW63253         1          3                  1              2             2\n",
       "HB64268         1          3                  4              1             2"
      ]
     },
     "execution_count": 91,
     "metadata": {},
     "output_type": "execute_result"
    }
   ],
   "source": [
    "# ordinal encoding\n",
    "\n",
    "df2_ord = df2_cat.drop(['state', 'response', 'gender', 'marital_status', 'policy_type', 'policy', 'renew_offer_type', 'sales_channel', 'vehicle_class'], axis=1)\n",
    "\n",
    "df2_ord['coverage'] = df2_ord['coverage'].map({'Basic' : 1, 'Extended' : 2, 'Premium' : 3})\n",
    "df2_ord['education'] = df2_ord['education'].map({'High School or Below' : 1, 'College' : 2, 'Bachelor' : 3, 'Master' : 4, 'Doctor' : 5})\n",
    "df2_ord['employment_status'] = df2_ord['employment_status'].map({'Unemployed' : 1, 'Medical Leave' : 2, 'Disabled' : 3, 'Employed' : 4, 'Retired' : 5})\n",
    "df2_ord['location_code'] = df2_ord['location_code'].map({'Rural' : 1, 'Suburban' : 2, 'Urban' : 3})\n",
    "df2_ord['vehicle_size'] = df2_ord['vehicle_size'].map({'Small': 1, 'Medsize': 2, 'Large': 3})\n",
    "\n",
    "df2_ord.head()"
   ]
  },
  {
   "cell_type": "code",
   "execution_count": 92,
   "id": "badc9bfe-d340-4494-a456-622858470061",
   "metadata": {},
   "outputs": [
    {
     "data": {
      "text/html": [
       "<div>\n",
       "<style scoped>\n",
       "    .dataframe tbody tr th:only-of-type {\n",
       "        vertical-align: middle;\n",
       "    }\n",
       "\n",
       "    .dataframe tbody tr th {\n",
       "        vertical-align: top;\n",
       "    }\n",
       "\n",
       "    .dataframe thead th {\n",
       "        text-align: right;\n",
       "    }\n",
       "</style>\n",
       "<table border=\"1\" class=\"dataframe\">\n",
       "  <thead>\n",
       "    <tr style=\"text-align: right;\">\n",
       "      <th></th>\n",
       "      <th>state_California</th>\n",
       "      <th>state_Nevada</th>\n",
       "      <th>state_Oregon</th>\n",
       "      <th>state_Washington</th>\n",
       "      <th>response_Yes</th>\n",
       "      <th>gender_M</th>\n",
       "      <th>marital_status_Married</th>\n",
       "      <th>marital_status_Single</th>\n",
       "      <th>policy_type_Personal Auto</th>\n",
       "      <th>policy_type_Special Auto</th>\n",
       "      <th>policy_Corporate L2</th>\n",
       "      <th>policy_Corporate L3</th>\n",
       "      <th>policy_Personal L1</th>\n",
       "      <th>policy_Personal L2</th>\n",
       "      <th>policy_Personal L3</th>\n",
       "      <th>policy_Special L1</th>\n",
       "      <th>policy_Special L2</th>\n",
       "      <th>policy_Special L3</th>\n",
       "      <th>renew_offer_type_Offer2</th>\n",
       "      <th>renew_offer_type_Offer3</th>\n",
       "      <th>renew_offer_type_Offer4</th>\n",
       "      <th>sales_channel_Branch</th>\n",
       "      <th>sales_channel_Call Center</th>\n",
       "      <th>sales_channel_Web</th>\n",
       "      <th>vehicle_class_Luxury Car</th>\n",
       "      <th>vehicle_class_Luxury SUV</th>\n",
       "      <th>vehicle_class_SUV</th>\n",
       "      <th>vehicle_class_Sports Car</th>\n",
       "      <th>vehicle_class_Two-Door Car</th>\n",
       "      <th>coverage</th>\n",
       "      <th>education</th>\n",
       "      <th>employment_status</th>\n",
       "      <th>location_code</th>\n",
       "      <th>vehicle_size</th>\n",
       "    </tr>\n",
       "    <tr>\n",
       "      <th>id</th>\n",
       "      <th></th>\n",
       "      <th></th>\n",
       "      <th></th>\n",
       "      <th></th>\n",
       "      <th></th>\n",
       "      <th></th>\n",
       "      <th></th>\n",
       "      <th></th>\n",
       "      <th></th>\n",
       "      <th></th>\n",
       "      <th></th>\n",
       "      <th></th>\n",
       "      <th></th>\n",
       "      <th></th>\n",
       "      <th></th>\n",
       "      <th></th>\n",
       "      <th></th>\n",
       "      <th></th>\n",
       "      <th></th>\n",
       "      <th></th>\n",
       "      <th></th>\n",
       "      <th></th>\n",
       "      <th></th>\n",
       "      <th></th>\n",
       "      <th></th>\n",
       "      <th></th>\n",
       "      <th></th>\n",
       "      <th></th>\n",
       "      <th></th>\n",
       "      <th></th>\n",
       "      <th></th>\n",
       "      <th></th>\n",
       "      <th></th>\n",
       "      <th></th>\n",
       "    </tr>\n",
       "  </thead>\n",
       "  <tbody>\n",
       "    <tr>\n",
       "      <th>BU79786</th>\n",
       "      <td>0</td>\n",
       "      <td>0</td>\n",
       "      <td>0</td>\n",
       "      <td>1</td>\n",
       "      <td>0</td>\n",
       "      <td>0</td>\n",
       "      <td>1</td>\n",
       "      <td>0</td>\n",
       "      <td>0</td>\n",
       "      <td>0</td>\n",
       "      <td>0</td>\n",
       "      <td>1</td>\n",
       "      <td>0</td>\n",
       "      <td>0</td>\n",
       "      <td>0</td>\n",
       "      <td>0</td>\n",
       "      <td>0</td>\n",
       "      <td>0</td>\n",
       "      <td>0</td>\n",
       "      <td>0</td>\n",
       "      <td>0</td>\n",
       "      <td>0</td>\n",
       "      <td>0</td>\n",
       "      <td>0</td>\n",
       "      <td>0</td>\n",
       "      <td>0</td>\n",
       "      <td>0</td>\n",
       "      <td>0</td>\n",
       "      <td>1</td>\n",
       "      <td>1</td>\n",
       "      <td>3</td>\n",
       "      <td>4</td>\n",
       "      <td>2</td>\n",
       "      <td>2</td>\n",
       "    </tr>\n",
       "    <tr>\n",
       "      <th>QZ44356</th>\n",
       "      <td>0</td>\n",
       "      <td>0</td>\n",
       "      <td>0</td>\n",
       "      <td>0</td>\n",
       "      <td>0</td>\n",
       "      <td>0</td>\n",
       "      <td>0</td>\n",
       "      <td>1</td>\n",
       "      <td>1</td>\n",
       "      <td>0</td>\n",
       "      <td>0</td>\n",
       "      <td>0</td>\n",
       "      <td>0</td>\n",
       "      <td>0</td>\n",
       "      <td>1</td>\n",
       "      <td>0</td>\n",
       "      <td>0</td>\n",
       "      <td>0</td>\n",
       "      <td>0</td>\n",
       "      <td>1</td>\n",
       "      <td>0</td>\n",
       "      <td>0</td>\n",
       "      <td>0</td>\n",
       "      <td>0</td>\n",
       "      <td>0</td>\n",
       "      <td>0</td>\n",
       "      <td>0</td>\n",
       "      <td>0</td>\n",
       "      <td>0</td>\n",
       "      <td>2</td>\n",
       "      <td>3</td>\n",
       "      <td>1</td>\n",
       "      <td>2</td>\n",
       "      <td>2</td>\n",
       "    </tr>\n",
       "    <tr>\n",
       "      <th>AI49188</th>\n",
       "      <td>0</td>\n",
       "      <td>1</td>\n",
       "      <td>0</td>\n",
       "      <td>0</td>\n",
       "      <td>0</td>\n",
       "      <td>0</td>\n",
       "      <td>1</td>\n",
       "      <td>0</td>\n",
       "      <td>1</td>\n",
       "      <td>0</td>\n",
       "      <td>0</td>\n",
       "      <td>0</td>\n",
       "      <td>0</td>\n",
       "      <td>0</td>\n",
       "      <td>1</td>\n",
       "      <td>0</td>\n",
       "      <td>0</td>\n",
       "      <td>0</td>\n",
       "      <td>0</td>\n",
       "      <td>0</td>\n",
       "      <td>0</td>\n",
       "      <td>0</td>\n",
       "      <td>0</td>\n",
       "      <td>0</td>\n",
       "      <td>0</td>\n",
       "      <td>0</td>\n",
       "      <td>0</td>\n",
       "      <td>0</td>\n",
       "      <td>1</td>\n",
       "      <td>3</td>\n",
       "      <td>3</td>\n",
       "      <td>4</td>\n",
       "      <td>2</td>\n",
       "      <td>2</td>\n",
       "    </tr>\n",
       "    <tr>\n",
       "      <th>WW63253</th>\n",
       "      <td>1</td>\n",
       "      <td>0</td>\n",
       "      <td>0</td>\n",
       "      <td>0</td>\n",
       "      <td>0</td>\n",
       "      <td>1</td>\n",
       "      <td>1</td>\n",
       "      <td>0</td>\n",
       "      <td>0</td>\n",
       "      <td>0</td>\n",
       "      <td>1</td>\n",
       "      <td>0</td>\n",
       "      <td>0</td>\n",
       "      <td>0</td>\n",
       "      <td>0</td>\n",
       "      <td>0</td>\n",
       "      <td>0</td>\n",
       "      <td>0</td>\n",
       "      <td>0</td>\n",
       "      <td>0</td>\n",
       "      <td>0</td>\n",
       "      <td>0</td>\n",
       "      <td>1</td>\n",
       "      <td>0</td>\n",
       "      <td>0</td>\n",
       "      <td>0</td>\n",
       "      <td>1</td>\n",
       "      <td>0</td>\n",
       "      <td>0</td>\n",
       "      <td>1</td>\n",
       "      <td>3</td>\n",
       "      <td>1</td>\n",
       "      <td>2</td>\n",
       "      <td>2</td>\n",
       "    </tr>\n",
       "    <tr>\n",
       "      <th>HB64268</th>\n",
       "      <td>0</td>\n",
       "      <td>0</td>\n",
       "      <td>0</td>\n",
       "      <td>1</td>\n",
       "      <td>0</td>\n",
       "      <td>1</td>\n",
       "      <td>0</td>\n",
       "      <td>1</td>\n",
       "      <td>1</td>\n",
       "      <td>0</td>\n",
       "      <td>0</td>\n",
       "      <td>0</td>\n",
       "      <td>1</td>\n",
       "      <td>0</td>\n",
       "      <td>0</td>\n",
       "      <td>0</td>\n",
       "      <td>0</td>\n",
       "      <td>0</td>\n",
       "      <td>0</td>\n",
       "      <td>0</td>\n",
       "      <td>0</td>\n",
       "      <td>0</td>\n",
       "      <td>0</td>\n",
       "      <td>0</td>\n",
       "      <td>0</td>\n",
       "      <td>0</td>\n",
       "      <td>0</td>\n",
       "      <td>0</td>\n",
       "      <td>0</td>\n",
       "      <td>1</td>\n",
       "      <td>3</td>\n",
       "      <td>4</td>\n",
       "      <td>1</td>\n",
       "      <td>2</td>\n",
       "    </tr>\n",
       "  </tbody>\n",
       "</table>\n",
       "</div>"
      ],
      "text/plain": [
       "         state_California  state_Nevada  state_Oregon  state_Washington  \\\n",
       "id                                                                        \n",
       "BU79786                 0             0             0                 1   \n",
       "QZ44356                 0             0             0                 0   \n",
       "AI49188                 0             1             0                 0   \n",
       "WW63253                 1             0             0                 0   \n",
       "HB64268                 0             0             0                 1   \n",
       "\n",
       "         response_Yes  gender_M  marital_status_Married  \\\n",
       "id                                                        \n",
       "BU79786             0         0                       1   \n",
       "QZ44356             0         0                       0   \n",
       "AI49188             0         0                       1   \n",
       "WW63253             0         1                       1   \n",
       "HB64268             0         1                       0   \n",
       "\n",
       "         marital_status_Single  policy_type_Personal Auto  \\\n",
       "id                                                          \n",
       "BU79786                      0                          0   \n",
       "QZ44356                      1                          1   \n",
       "AI49188                      0                          1   \n",
       "WW63253                      0                          0   \n",
       "HB64268                      1                          1   \n",
       "\n",
       "         policy_type_Special Auto  policy_Corporate L2  policy_Corporate L3  \\\n",
       "id                                                                            \n",
       "BU79786                         0                    0                    1   \n",
       "QZ44356                         0                    0                    0   \n",
       "AI49188                         0                    0                    0   \n",
       "WW63253                         0                    1                    0   \n",
       "HB64268                         0                    0                    0   \n",
       "\n",
       "         policy_Personal L1  policy_Personal L2  policy_Personal L3  \\\n",
       "id                                                                    \n",
       "BU79786                   0                   0                   0   \n",
       "QZ44356                   0                   0                   1   \n",
       "AI49188                   0                   0                   1   \n",
       "WW63253                   0                   0                   0   \n",
       "HB64268                   1                   0                   0   \n",
       "\n",
       "         policy_Special L1  policy_Special L2  policy_Special L3  \\\n",
       "id                                                                 \n",
       "BU79786                  0                  0                  0   \n",
       "QZ44356                  0                  0                  0   \n",
       "AI49188                  0                  0                  0   \n",
       "WW63253                  0                  0                  0   \n",
       "HB64268                  0                  0                  0   \n",
       "\n",
       "         renew_offer_type_Offer2  renew_offer_type_Offer3  \\\n",
       "id                                                          \n",
       "BU79786                        0                        0   \n",
       "QZ44356                        0                        1   \n",
       "AI49188                        0                        0   \n",
       "WW63253                        0                        0   \n",
       "HB64268                        0                        0   \n",
       "\n",
       "         renew_offer_type_Offer4  sales_channel_Branch  \\\n",
       "id                                                       \n",
       "BU79786                        0                     0   \n",
       "QZ44356                        0                     0   \n",
       "AI49188                        0                     0   \n",
       "WW63253                        0                     0   \n",
       "HB64268                        0                     0   \n",
       "\n",
       "         sales_channel_Call Center  sales_channel_Web  \\\n",
       "id                                                      \n",
       "BU79786                          0                  0   \n",
       "QZ44356                          0                  0   \n",
       "AI49188                          0                  0   \n",
       "WW63253                          1                  0   \n",
       "HB64268                          0                  0   \n",
       "\n",
       "         vehicle_class_Luxury Car  vehicle_class_Luxury SUV  \\\n",
       "id                                                            \n",
       "BU79786                         0                         0   \n",
       "QZ44356                         0                         0   \n",
       "AI49188                         0                         0   \n",
       "WW63253                         0                         0   \n",
       "HB64268                         0                         0   \n",
       "\n",
       "         vehicle_class_SUV  vehicle_class_Sports Car  \\\n",
       "id                                                     \n",
       "BU79786                  0                         0   \n",
       "QZ44356                  0                         0   \n",
       "AI49188                  0                         0   \n",
       "WW63253                  1                         0   \n",
       "HB64268                  0                         0   \n",
       "\n",
       "         vehicle_class_Two-Door Car  coverage  education  employment_status  \\\n",
       "id                                                                            \n",
       "BU79786                           1         1          3                  4   \n",
       "QZ44356                           0         2          3                  1   \n",
       "AI49188                           1         3          3                  4   \n",
       "WW63253                           0         1          3                  1   \n",
       "HB64268                           0         1          3                  4   \n",
       "\n",
       "         location_code  vehicle_size  \n",
       "id                                    \n",
       "BU79786              2             2  \n",
       "QZ44356              2             2  \n",
       "AI49188              2             2  \n",
       "WW63253              2             2  \n",
       "HB64268              1             2  "
      ]
     },
     "execution_count": 92,
     "metadata": {},
     "output_type": "execute_result"
    }
   ],
   "source": [
    "df2_encoded = pd.concat([df2_onehot, df2_ord], axis=1)\n",
    "\n",
    "df2_encoded.head()"
   ]
  },
  {
   "cell_type": "markdown",
   "id": "654bf0fd-5f72-40c9-aa4d-12c5c7c31163",
   "metadata": {},
   "source": [
    "### 5. The time variable can be useful. Try to transform its data into a useful one. Hint: Day week and month as integers might be useful."
   ]
  },
  {
   "cell_type": "code",
   "execution_count": 93,
   "id": "7072638e-d7ab-4172-8b3e-ceffafa7e510",
   "metadata": {},
   "outputs": [
    {
     "data": {
      "text/html": [
       "<div>\n",
       "<style scoped>\n",
       "    .dataframe tbody tr th:only-of-type {\n",
       "        vertical-align: middle;\n",
       "    }\n",
       "\n",
       "    .dataframe tbody tr th {\n",
       "        vertical-align: top;\n",
       "    }\n",
       "\n",
       "    .dataframe thead th {\n",
       "        text-align: right;\n",
       "    }\n",
       "</style>\n",
       "<table border=\"1\" class=\"dataframe\">\n",
       "  <thead>\n",
       "    <tr style=\"text-align: right;\">\n",
       "      <th></th>\n",
       "      <th>effective_to_date</th>\n",
       "    </tr>\n",
       "    <tr>\n",
       "      <th>id</th>\n",
       "      <th></th>\n",
       "    </tr>\n",
       "  </thead>\n",
       "  <tbody>\n",
       "    <tr>\n",
       "      <th>BU79786</th>\n",
       "      <td>2011-02-24</td>\n",
       "    </tr>\n",
       "    <tr>\n",
       "      <th>QZ44356</th>\n",
       "      <td>2011-01-31</td>\n",
       "    </tr>\n",
       "    <tr>\n",
       "      <th>AI49188</th>\n",
       "      <td>2011-02-19</td>\n",
       "    </tr>\n",
       "    <tr>\n",
       "      <th>WW63253</th>\n",
       "      <td>2011-01-20</td>\n",
       "    </tr>\n",
       "    <tr>\n",
       "      <th>HB64268</th>\n",
       "      <td>2011-02-03</td>\n",
       "    </tr>\n",
       "  </tbody>\n",
       "</table>\n",
       "</div>"
      ],
      "text/plain": [
       "        effective_to_date\n",
       "id                       \n",
       "BU79786        2011-02-24\n",
       "QZ44356        2011-01-31\n",
       "AI49188        2011-02-19\n",
       "WW63253        2011-01-20\n",
       "HB64268        2011-02-03"
      ]
     },
     "execution_count": 93,
     "metadata": {},
     "output_type": "execute_result"
    }
   ],
   "source": [
    "df2_etd = customer_df2.select_dtypes(include=['datetime'])\n",
    "\n",
    "df2_etd.head()"
   ]
  },
  {
   "cell_type": "code",
   "execution_count": 94,
   "id": "68abddbc-2c83-42db-bc23-10b8f81043ae",
   "metadata": {},
   "outputs": [
    {
     "data": {
      "text/html": [
       "<div>\n",
       "<style scoped>\n",
       "    .dataframe tbody tr th:only-of-type {\n",
       "        vertical-align: middle;\n",
       "    }\n",
       "\n",
       "    .dataframe tbody tr th {\n",
       "        vertical-align: top;\n",
       "    }\n",
       "\n",
       "    .dataframe thead th {\n",
       "        text-align: right;\n",
       "    }\n",
       "</style>\n",
       "<table border=\"1\" class=\"dataframe\">\n",
       "  <thead>\n",
       "    <tr style=\"text-align: right;\">\n",
       "      <th></th>\n",
       "      <th>etd_day</th>\n",
       "      <th>etd_week</th>\n",
       "      <th>etd_month</th>\n",
       "    </tr>\n",
       "    <tr>\n",
       "      <th>id</th>\n",
       "      <th></th>\n",
       "      <th></th>\n",
       "      <th></th>\n",
       "    </tr>\n",
       "  </thead>\n",
       "  <tbody>\n",
       "    <tr>\n",
       "      <th>BU79786</th>\n",
       "      <td>24</td>\n",
       "      <td>8</td>\n",
       "      <td>2</td>\n",
       "    </tr>\n",
       "    <tr>\n",
       "      <th>QZ44356</th>\n",
       "      <td>31</td>\n",
       "      <td>5</td>\n",
       "      <td>1</td>\n",
       "    </tr>\n",
       "    <tr>\n",
       "      <th>AI49188</th>\n",
       "      <td>19</td>\n",
       "      <td>7</td>\n",
       "      <td>2</td>\n",
       "    </tr>\n",
       "    <tr>\n",
       "      <th>WW63253</th>\n",
       "      <td>20</td>\n",
       "      <td>3</td>\n",
       "      <td>1</td>\n",
       "    </tr>\n",
       "    <tr>\n",
       "      <th>HB64268</th>\n",
       "      <td>3</td>\n",
       "      <td>5</td>\n",
       "      <td>2</td>\n",
       "    </tr>\n",
       "  </tbody>\n",
       "</table>\n",
       "</div>"
      ],
      "text/plain": [
       "         etd_day  etd_week  etd_month\n",
       "id                                   \n",
       "BU79786       24         8          2\n",
       "QZ44356       31         5          1\n",
       "AI49188       19         7          2\n",
       "WW63253       20         3          1\n",
       "HB64268        3         5          2"
      ]
     },
     "execution_count": 94,
     "metadata": {},
     "output_type": "execute_result"
    }
   ],
   "source": [
    "df2_etd['etd_day'] = df2_etd['effective_to_date'].dt.day\n",
    "df2_etd['etd_week'] = df2_etd['effective_to_date'].dt.week\n",
    "df2_etd['etd_month'] = df2_etd['effective_to_date'].dt.month\n",
    "\n",
    "df2_etd = df2_etd.drop(['effective_to_date'], axis=1)\n",
    "\n",
    "df2_etd.head()"
   ]
  },
  {
   "cell_type": "markdown",
   "id": "4d611781-f077-4a5b-8d4f-09759b25c318",
   "metadata": {},
   "source": [
    "### 6. Since the model will only accept numerical data, check and make sure that every column is numerical, if some are not, change it using encoding."
   ]
  },
  {
   "cell_type": "code",
   "execution_count": 95,
   "id": "62c14c2e-4bf6-4a10-b976-a64ed1f5f5b9",
   "metadata": {},
   "outputs": [
    {
     "name": "stdout",
     "output_type": "stream",
     "text": [
      "<class 'pandas.core.frame.DataFrame'>\n",
      "Index: 9134 entries, BU79786 to Y167826\n",
      "Data columns (total 45 columns):\n",
      " #   Column                         Non-Null Count  Dtype  \n",
      "---  ------                         --------------  -----  \n",
      " 0   customer_lifetime_value        9134 non-null   float64\n",
      " 1   income                         9134 non-null   float64\n",
      " 2   monthly_premium_auto           9134 non-null   float64\n",
      " 3   months_since_last_claim        9134 non-null   float64\n",
      " 4   months_since_policy_inception  9134 non-null   float64\n",
      " 5   number_of_open_complaints      9134 non-null   float64\n",
      " 6   number_of_policies             9134 non-null   float64\n",
      " 7   total_claim_amount             9134 non-null   float64\n",
      " 8   state_California               9134 non-null   uint8  \n",
      " 9   state_Nevada                   9134 non-null   uint8  \n",
      " 10  state_Oregon                   9134 non-null   uint8  \n",
      " 11  state_Washington               9134 non-null   uint8  \n",
      " 12  response_Yes                   9134 non-null   uint8  \n",
      " 13  gender_M                       9134 non-null   uint8  \n",
      " 14  marital_status_Married         9134 non-null   uint8  \n",
      " 15  marital_status_Single          9134 non-null   uint8  \n",
      " 16  policy_type_Personal Auto      9134 non-null   uint8  \n",
      " 17  policy_type_Special Auto       9134 non-null   uint8  \n",
      " 18  policy_Corporate L2            9134 non-null   uint8  \n",
      " 19  policy_Corporate L3            9134 non-null   uint8  \n",
      " 20  policy_Personal L1             9134 non-null   uint8  \n",
      " 21  policy_Personal L2             9134 non-null   uint8  \n",
      " 22  policy_Personal L3             9134 non-null   uint8  \n",
      " 23  policy_Special L1              9134 non-null   uint8  \n",
      " 24  policy_Special L2              9134 non-null   uint8  \n",
      " 25  policy_Special L3              9134 non-null   uint8  \n",
      " 26  renew_offer_type_Offer2        9134 non-null   uint8  \n",
      " 27  renew_offer_type_Offer3        9134 non-null   uint8  \n",
      " 28  renew_offer_type_Offer4        9134 non-null   uint8  \n",
      " 29  sales_channel_Branch           9134 non-null   uint8  \n",
      " 30  sales_channel_Call Center      9134 non-null   uint8  \n",
      " 31  sales_channel_Web              9134 non-null   uint8  \n",
      " 32  vehicle_class_Luxury Car       9134 non-null   uint8  \n",
      " 33  vehicle_class_Luxury SUV       9134 non-null   uint8  \n",
      " 34  vehicle_class_SUV              9134 non-null   uint8  \n",
      " 35  vehicle_class_Sports Car       9134 non-null   uint8  \n",
      " 36  vehicle_class_Two-Door Car     9134 non-null   uint8  \n",
      " 37  coverage                       9134 non-null   int64  \n",
      " 38  education                      9134 non-null   int64  \n",
      " 39  employment_status              9134 non-null   int64  \n",
      " 40  location_code                  9134 non-null   int64  \n",
      " 41  vehicle_size                   9134 non-null   int64  \n",
      " 42  etd_day                        9134 non-null   int64  \n",
      " 43  etd_week                       9134 non-null   int64  \n",
      " 44  etd_month                      9134 non-null   int64  \n",
      "dtypes: float64(8), int64(8), uint8(29)\n",
      "memory usage: 1.7+ MB\n"
     ]
    }
   ],
   "source": [
    "customer_df3 = pd.concat([df2_numnorm, df2_encoded, df2_etd], axis=1)\n",
    "\n",
    "customer_df3.info()"
   ]
  },
  {
   "cell_type": "code",
   "execution_count": null,
   "id": "ba8f7167-c547-4450-b4ae-7914596beba2",
   "metadata": {},
   "outputs": [],
   "source": []
  },
  {
   "cell_type": "markdown",
   "id": "f887dab9-c3b8-4ac1-913a-ea34a7bf7423",
   "metadata": {},
   "source": [
    "# Lab | Comparing regression models"
   ]
  },
  {
   "cell_type": "markdown",
   "id": "7f95d1aa-fb0e-40cb-acac-8d6147043f26",
   "metadata": {},
   "source": [
    "For this lab, we will be using the same dataset we used in the previous labs. We recommend using the same notebook since you will be reusing the same variables you previous created and used in labs."
   ]
  },
  {
   "cell_type": "markdown",
   "id": "5219bb93-4f41-48b7-ab30-66ea8280a460",
   "metadata": {},
   "source": [
    "### 1. In this final lab, we will model our data. Import sklearn train_test_split and separate the data.\n"
   ]
  },
  {
   "cell_type": "code",
   "execution_count": 96,
   "id": "5e434550-4bb4-4ee4-a43e-c64d5c255a99",
   "metadata": {},
   "outputs": [],
   "source": [
    "from sklearn.linear_model import LinearRegression\n",
    "from sklearn.neighbors import KNeighborsRegressor\n",
    "from sklearn.neural_network import MLPRegressor\n",
    "from sklearn.metrics import r2_score, mean_squared_error, mean_absolute_error\n",
    "from sklearn.model_selection import train_test_split\n",
    "import statsmodels.api as sm\n",
    "from statsmodels.formula.api import ols"
   ]
  },
  {
   "cell_type": "code",
   "execution_count": 97,
   "id": "5d1088d1-ae1a-4230-bf48-c7953f015b28",
   "metadata": {},
   "outputs": [],
   "source": [
    "X = customer_df3.drop(['total_claim_amount'], axis=1)\n",
    "y = customer_df3['total_claim_amount']\n",
    "\n",
    "X_train, X_test, y_train, y_test = train_test_split(X, y, test_size=0.2, random_state=8)"
   ]
  },
  {
   "cell_type": "markdown",
   "id": "8527c42f-1852-4cec-8b11-f324b5bea4ee",
   "metadata": {},
   "source": [
    "### 2. Try a simple linear regression with all the data to see whether we are getting good results."
   ]
  },
  {
   "cell_type": "code",
   "execution_count": 98,
   "id": "7909571d-ed2b-4c21-9638-974d6d9d95df",
   "metadata": {},
   "outputs": [
    {
     "name": "stdout",
     "output_type": "stream",
     "text": [
      "R2 score: 0.448 \n",
      " RMSE: 0.743 \n",
      " MSE: 0.552 \n",
      " MAE: 0.581\n"
     ]
    }
   ],
   "source": [
    "lr0 = LinearRegression()\n",
    "model = lr0.fit(X,y)\n",
    "\n",
    "predictions = lr0.predict(X)\n",
    "\n",
    "r2 = round(lr0.score(X,y),3)\n",
    "rmse = round(mean_squared_error(y, predictions, squared=False), 3)\n",
    "mse = round(mean_squared_error(y, predictions, squared=True), 3)\n",
    "mae = round(mean_absolute_error(y, predictions), 3)\n",
    "\n",
    "print('R2 score:', r2, '\\n', 'RMSE:', rmse, '\\n', 'MSE:', mse, '\\n', 'MAE:', mae)"
   ]
  },
  {
   "cell_type": "markdown",
   "id": "1cdd774c-2043-481a-922a-3c4b3f945052",
   "metadata": {},
   "source": [
    "### 3. Great! Now define a function that takes a list of models and train (and tests) them so we can try a lot of them without repeating code."
   ]
  },
  {
   "cell_type": "code",
   "execution_count": 99,
   "id": "d5624b73-f718-4183-abe0-c419e3c9a277",
   "metadata": {},
   "outputs": [],
   "source": [
    "# function inputs: df=dataframe, target=target column, models=list of models from 'LR', 'KNN', MLPR , testsize=test set size, random_no=random state, k = k value for KNN model\n",
    "\n",
    "def regression_models(df, target, models, testsize, random_no, k=5):\n",
    "    # x-y-split\n",
    "    X = df.drop([target], axis=1)\n",
    "    y = df[target]\n",
    "    \n",
    "    # train-test-split\n",
    "    X_train, X_test, y_train, y_test = train_test_split(X, y, test_size=testsize, random_state=random_no)\n",
    "    \n",
    "    # lists for model acurracy measures\n",
    "    model_names = []\n",
    "    list_r2 = []\n",
    "    list_r2adj = []\n",
    "    list_rmse = []\n",
    "    list_mse = []\n",
    "    list_mae = []\n",
    "    \n",
    "    # model execution\n",
    "    for m in models:\n",
    "        if m == 'lr':\n",
    "            model = LinearRegression()\n",
    "            model_names.append('Linear Regression')\n",
    "        elif m == 'knn':\n",
    "            model = KNeighborsRegressor(n_neighbors=k)\n",
    "            model_names.append('KNN')\n",
    "        elif m == 'mlpr':\n",
    "            model = MLPRegressor()\n",
    "            model_names.append('MLP Regressor')\n",
    "        \n",
    "        model.fit(X_train, y_train)\n",
    "        predictions = model.predict(X_test)\n",
    "        \n",
    "        # model evaluation\n",
    "        r2 = round(r2_score(y_test, predictions), 3)\n",
    "        r2adj = round(1 - (1-r2)*(len(y_test)-1)/(len(y_test)-X_test.shape[1]-1), 3)\n",
    "        rmse = round(mean_squared_error(y_test, predictions, squared=False), 3)\n",
    "        mse = round(mean_squared_error(y_test, predictions, squared=True), 3)\n",
    "        mae = round(mean_absolute_error(y_test, predictions), 3)\n",
    "        \n",
    "        list_r2.append(r2)\n",
    "        list_r2adj.append(r2adj)\n",
    "        list_rmse.append(rmse)\n",
    "        list_mse.append(mse)\n",
    "        list_mae.append(mae)\n",
    "    \n",
    "    # df for model comparison\n",
    "    data_results = {'Model': model_names, 'R2': list_r2, 'R2 Adj.': list_r2adj, 'RMSE': list_rmse, 'MSE': list_mse, 'MAE': list_mae}\n",
    "    model_comparison = pd.DataFrame(data=data_results)\n",
    "    \n",
    "    return model_comparison.style.hide_index()"
   ]
  },
  {
   "cell_type": "markdown",
   "id": "248b2c22-4b25-426c-bffa-86d1e2c7c095",
   "metadata": {},
   "source": [
    "### 4. Use the function to check LinearRegressor and KNeighborsRegressor."
   ]
  },
  {
   "cell_type": "code",
   "execution_count": 100,
   "id": "d41a0910-bac6-4837-801d-21238b9c9626",
   "metadata": {},
   "outputs": [
    {
     "data": {
      "text/html": [
       "<style  type=\"text/css\" >\n",
       "</style><table id=\"T_dfa40_\" ><thead>    <tr>        <th class=\"col_heading level0 col0\" >Model</th>        <th class=\"col_heading level0 col1\" >R2</th>        <th class=\"col_heading level0 col2\" >R2 Adj.</th>        <th class=\"col_heading level0 col3\" >RMSE</th>        <th class=\"col_heading level0 col4\" >MSE</th>        <th class=\"col_heading level0 col5\" >MAE</th>    </tr></thead><tbody>\n",
       "                <tr>\n",
       "                                <td id=\"T_dfa40_row0_col0\" class=\"data row0 col0\" >Linear Regression</td>\n",
       "                        <td id=\"T_dfa40_row0_col1\" class=\"data row0 col1\" >0.466000</td>\n",
       "                        <td id=\"T_dfa40_row0_col2\" class=\"data row0 col2\" >0.453000</td>\n",
       "                        <td id=\"T_dfa40_row0_col3\" class=\"data row0 col3\" >0.738000</td>\n",
       "                        <td id=\"T_dfa40_row0_col4\" class=\"data row0 col4\" >0.545000</td>\n",
       "                        <td id=\"T_dfa40_row0_col5\" class=\"data row0 col5\" >0.576000</td>\n",
       "            </tr>\n",
       "            <tr>\n",
       "                                <td id=\"T_dfa40_row1_col0\" class=\"data row1 col0\" >KNN</td>\n",
       "                        <td id=\"T_dfa40_row1_col1\" class=\"data row1 col1\" >0.401000</td>\n",
       "                        <td id=\"T_dfa40_row1_col2\" class=\"data row1 col2\" >0.386000</td>\n",
       "                        <td id=\"T_dfa40_row1_col3\" class=\"data row1 col3\" >0.782000</td>\n",
       "                        <td id=\"T_dfa40_row1_col4\" class=\"data row1 col4\" >0.611000</td>\n",
       "                        <td id=\"T_dfa40_row1_col5\" class=\"data row1 col5\" >0.579000</td>\n",
       "            </tr>\n",
       "            <tr>\n",
       "                                <td id=\"T_dfa40_row2_col0\" class=\"data row2 col0\" >MLP Regressor</td>\n",
       "                        <td id=\"T_dfa40_row2_col1\" class=\"data row2 col1\" >0.710000</td>\n",
       "                        <td id=\"T_dfa40_row2_col2\" class=\"data row2 col2\" >0.703000</td>\n",
       "                        <td id=\"T_dfa40_row2_col3\" class=\"data row2 col3\" >0.544000</td>\n",
       "                        <td id=\"T_dfa40_row2_col4\" class=\"data row2 col4\" >0.296000</td>\n",
       "                        <td id=\"T_dfa40_row2_col5\" class=\"data row2 col5\" >0.399000</td>\n",
       "            </tr>\n",
       "    </tbody></table>"
      ],
      "text/plain": [
       "<pandas.io.formats.style.Styler at 0x1212a3df0>"
      ]
     },
     "execution_count": 100,
     "metadata": {},
     "output_type": "execute_result"
    }
   ],
   "source": [
    "# comparing LR, KNN and MLPR model\n",
    "\n",
    "results = regression_models(df=customer_df3, target='total_claim_amount', models=['lr', 'knn', 'mlpr'], testsize=0.2, random_no=8)\n",
    "results"
   ]
  },
  {
   "cell_type": "code",
   "execution_count": 101,
   "id": "a0111e57-f3f7-4cd7-b9c5-5b82d6defc9f",
   "metadata": {},
   "outputs": [],
   "source": [
    "# comparing the accuracy of KNN models with different k values\n",
    "\n",
    "# function inputs: df=dataframe, target=target column, models=list of models from 'LR', 'KNN', MLPR , testsize=test set size, random_no=random state, k = range funtion for k values\n",
    "def knn_multiple(df, target, testsize, random_no, k_range):\n",
    "    \n",
    "    # x-y-split\n",
    "    X = df.drop([target], axis=1)\n",
    "    y = df[target]\n",
    "    \n",
    "    # train-test-split\n",
    "    X_train, X_test, y_train, y_test = train_test_split(X, y, test_size=testsize, random_state=random_no)\n",
    "    \n",
    "    knn_r2 = []\n",
    "    k_list = []\n",
    "\n",
    "    for k in k_range:\n",
    "        model = KNeighborsRegressor(n_neighbors=k)\n",
    "        model.fit(X_train, y_train)\n",
    "        predictions = model.predict(X_test)\n",
    "        knn_r2.append(model.score(X_test, y_test))\n",
    "        k_list.append(k)\n",
    "     \n",
    "    # plot k value vs. r2\n",
    "    plt.figure(figsize=(10,6))\n",
    "    plt.plot(k_range,knn_r2,color = 'blue', linestyle='dashed', marker='o', markerfacecolor='red', markersize=10)\n",
    "    plt.title('accuracy scores vs. k value')\n",
    "    plt.xlabel('K')\n",
    "    plt.ylabel('R2')\n",
    "    \n",
    "    # df for model comparison\n",
    "    knn_results = {'KNN with k value': k_list, 'R2': knn_r2}\n",
    "    knn_comparison = pd.DataFrame(data=knn_results)\n",
    "    \n",
    "    return knn_comparison.style.hide_index()"
   ]
  },
  {
   "cell_type": "code",
   "execution_count": 102,
   "id": "61fe5b41-1aa6-4c5d-bc98-389154ce5fd3",
   "metadata": {},
   "outputs": [
    {
     "data": {
      "text/html": [
       "<style  type=\"text/css\" >\n",
       "</style><table id=\"T_df763_\" ><thead>    <tr>        <th class=\"col_heading level0 col0\" >KNN with k value</th>        <th class=\"col_heading level0 col1\" >R2</th>    </tr></thead><tbody>\n",
       "                <tr>\n",
       "                                <td id=\"T_df763_row0_col0\" class=\"data row0 col0\" >2</td>\n",
       "                        <td id=\"T_df763_row0_col1\" class=\"data row0 col1\" >0.267421</td>\n",
       "            </tr>\n",
       "            <tr>\n",
       "                                <td id=\"T_df763_row1_col0\" class=\"data row1 col0\" >3</td>\n",
       "                        <td id=\"T_df763_row1_col1\" class=\"data row1 col1\" >0.349398</td>\n",
       "            </tr>\n",
       "            <tr>\n",
       "                                <td id=\"T_df763_row2_col0\" class=\"data row2 col0\" >4</td>\n",
       "                        <td id=\"T_df763_row2_col1\" class=\"data row2 col1\" >0.388812</td>\n",
       "            </tr>\n",
       "            <tr>\n",
       "                                <td id=\"T_df763_row3_col0\" class=\"data row3 col0\" >5</td>\n",
       "                        <td id=\"T_df763_row3_col1\" class=\"data row3 col1\" >0.401257</td>\n",
       "            </tr>\n",
       "            <tr>\n",
       "                                <td id=\"T_df763_row4_col0\" class=\"data row4 col0\" >6</td>\n",
       "                        <td id=\"T_df763_row4_col1\" class=\"data row4 col1\" >0.404393</td>\n",
       "            </tr>\n",
       "            <tr>\n",
       "                                <td id=\"T_df763_row5_col0\" class=\"data row5 col0\" >7</td>\n",
       "                        <td id=\"T_df763_row5_col1\" class=\"data row5 col1\" >0.405900</td>\n",
       "            </tr>\n",
       "            <tr>\n",
       "                                <td id=\"T_df763_row6_col0\" class=\"data row6 col0\" >8</td>\n",
       "                        <td id=\"T_df763_row6_col1\" class=\"data row6 col1\" >0.400645</td>\n",
       "            </tr>\n",
       "            <tr>\n",
       "                                <td id=\"T_df763_row7_col0\" class=\"data row7 col0\" >9</td>\n",
       "                        <td id=\"T_df763_row7_col1\" class=\"data row7 col1\" >0.398724</td>\n",
       "            </tr>\n",
       "            <tr>\n",
       "                                <td id=\"T_df763_row8_col0\" class=\"data row8 col0\" >10</td>\n",
       "                        <td id=\"T_df763_row8_col1\" class=\"data row8 col1\" >0.398839</td>\n",
       "            </tr>\n",
       "            <tr>\n",
       "                                <td id=\"T_df763_row9_col0\" class=\"data row9 col0\" >11</td>\n",
       "                        <td id=\"T_df763_row9_col1\" class=\"data row9 col1\" >0.402536</td>\n",
       "            </tr>\n",
       "    </tbody></table>"
      ],
      "text/plain": [
       "<pandas.io.formats.style.Styler at 0x120c6fbe0>"
      ]
     },
     "execution_count": 102,
     "metadata": {},
     "output_type": "execute_result"
    },
    {
     "data": {
      "image/png": "[encoded data removed]",
      "text/plain": [
       "<Figure size 720x432 with 1 Axes>"
      ]
     },
     "metadata": {
      "needs_background": "light"
     },
     "output_type": "display_data"
    }
   ],
   "source": [
    "knn_test = knn_multiple(df=customer_df3, target='total_claim_amount', testsize=0.2, random_no=8, k_range=range(2,12))\n",
    "knn_test"
   ]
  },
  {
   "cell_type": "markdown",
   "id": "5e29ace3-83be-4a1e-a389-74878a0c71bd",
   "metadata": {},
   "source": [
    "### 5. You can check also the MLPRegressor for this task!"
   ]
  },
  {
   "cell_type": "markdown",
   "id": "04d721e4-d502-446c-b278-a0ec35ba3623",
   "metadata": {},
   "source": [
    "MLPRegressor model is part of the comparison in 4."
   ]
  },
  {
   "cell_type": "markdown",
   "id": "741bcf60-7053-4563-8723-ef6a2ddd1cb2",
   "metadata": {},
   "source": [
    "### 6. Check and discuss the results."
   ]
  },
  {
   "cell_type": "markdown",
   "id": "f742b25b-0436-4d4a-a6c4-ffa1c81ffa24",
   "metadata": {},
   "source": [
    "- Having performed only scaling to numerical variables and encoding of categorical variables, the LR and KNN models dont perform that well. \n",
    "MLP Regressor achieves an okay accuracy (0.69) performing the best with respect to R2 scores. \n",
    "- changing the k values above 5 doesnt have a significant positive impact on accuracy. 5 is therefore the best pick as a k values with an r2 score with little difference to the maximum and performing better then values between 2 and 4. \n",
    "\n",
    "> The data would still have to be manipulated by testing different transformation tecniques to see if the model performance can be improved"
   ]
  },
  {
   "cell_type": "code",
   "execution_count": null,
   "id": "d47059bf-ad01-4a28-bd1e-e92175ad2403",
   "metadata": {},
   "outputs": [],
   "source": []
  },
  {
   "cell_type": "markdown",
   "id": "3ef95514-f76b-4c41-8e8d-bff739d96328",
   "metadata": {},
   "source": [
    "# Lab | Random variable distributions"
   ]
  },
  {
   "cell_type": "markdown",
   "id": "ad27f9b8-d4d7-4ee4-a690-9076fc5d79d1",
   "metadata": {},
   "source": [
    "Refer to the files_for_lab/we_fn_use_c_marketing_customer_value_analysis.csv dataset."
   ]
  },
  {
   "cell_type": "markdown",
   "id": "e93c1eab-ca1a-4ac4-a304-d054a0a61559",
   "metadata": {},
   "source": [
    "### 1. Get the numerical variables from our dataset."
   ]
  },
  {
   "cell_type": "code",
   "execution_count": 105,
   "id": "42b0e092-3af4-4355-b541-1fafc10da948",
   "metadata": {},
   "outputs": [
    {
     "data": {
      "text/html": [
       "<div>\n",
       "<style scoped>\n",
       "    .dataframe tbody tr th:only-of-type {\n",
       "        vertical-align: middle;\n",
       "    }\n",
       "\n",
       "    .dataframe tbody tr th {\n",
       "        vertical-align: top;\n",
       "    }\n",
       "\n",
       "    .dataframe thead th {\n",
       "        text-align: right;\n",
       "    }\n",
       "</style>\n",
       "<table border=\"1\" class=\"dataframe\">\n",
       "  <thead>\n",
       "    <tr style=\"text-align: right;\">\n",
       "      <th></th>\n",
       "      <th>customer_lifetime_value</th>\n",
       "      <th>income</th>\n",
       "      <th>monthly_premium_auto</th>\n",
       "      <th>months_since_last_claim</th>\n",
       "      <th>months_since_policy_inception</th>\n",
       "      <th>number_of_open_complaints</th>\n",
       "      <th>number_of_policies</th>\n",
       "      <th>total_claim_amount</th>\n",
       "    </tr>\n",
       "    <tr>\n",
       "      <th>id</th>\n",
       "      <th></th>\n",
       "      <th></th>\n",
       "      <th></th>\n",
       "      <th></th>\n",
       "      <th></th>\n",
       "      <th></th>\n",
       "      <th></th>\n",
       "      <th></th>\n",
       "    </tr>\n",
       "  </thead>\n",
       "  <tbody>\n",
       "    <tr>\n",
       "      <th>BU79786</th>\n",
       "      <td>2763.519279</td>\n",
       "      <td>56274</td>\n",
       "      <td>69</td>\n",
       "      <td>32</td>\n",
       "      <td>5</td>\n",
       "      <td>0</td>\n",
       "      <td>1</td>\n",
       "      <td>384.811147</td>\n",
       "    </tr>\n",
       "    <tr>\n",
       "      <th>QZ44356</th>\n",
       "      <td>6979.535903</td>\n",
       "      <td>0</td>\n",
       "      <td>94</td>\n",
       "      <td>13</td>\n",
       "      <td>42</td>\n",
       "      <td>0</td>\n",
       "      <td>8</td>\n",
       "      <td>1131.464935</td>\n",
       "    </tr>\n",
       "    <tr>\n",
       "      <th>AI49188</th>\n",
       "      <td>12887.431650</td>\n",
       "      <td>48767</td>\n",
       "      <td>108</td>\n",
       "      <td>18</td>\n",
       "      <td>38</td>\n",
       "      <td>0</td>\n",
       "      <td>2</td>\n",
       "      <td>566.472247</td>\n",
       "    </tr>\n",
       "    <tr>\n",
       "      <th>WW63253</th>\n",
       "      <td>7645.861827</td>\n",
       "      <td>0</td>\n",
       "      <td>106</td>\n",
       "      <td>18</td>\n",
       "      <td>65</td>\n",
       "      <td>0</td>\n",
       "      <td>7</td>\n",
       "      <td>529.881344</td>\n",
       "    </tr>\n",
       "    <tr>\n",
       "      <th>HB64268</th>\n",
       "      <td>2813.692575</td>\n",
       "      <td>43836</td>\n",
       "      <td>73</td>\n",
       "      <td>12</td>\n",
       "      <td>44</td>\n",
       "      <td>0</td>\n",
       "      <td>1</td>\n",
       "      <td>138.130879</td>\n",
       "    </tr>\n",
       "  </tbody>\n",
       "</table>\n",
       "</div>"
      ],
      "text/plain": [
       "         customer_lifetime_value  income  monthly_premium_auto  \\\n",
       "id                                                               \n",
       "BU79786              2763.519279   56274                    69   \n",
       "QZ44356              6979.535903       0                    94   \n",
       "AI49188             12887.431650   48767                   108   \n",
       "WW63253              7645.861827       0                   106   \n",
       "HB64268              2813.692575   43836                    73   \n",
       "\n",
       "         months_since_last_claim  months_since_policy_inception  \\\n",
       "id                                                                \n",
       "BU79786                       32                              5   \n",
       "QZ44356                       13                             42   \n",
       "AI49188                       18                             38   \n",
       "WW63253                       18                             65   \n",
       "HB64268                       12                             44   \n",
       "\n",
       "         number_of_open_complaints  number_of_policies  total_claim_amount  \n",
       "id                                                                          \n",
       "BU79786                          0                   1          384.811147  \n",
       "QZ44356                          0                   8         1131.464935  \n",
       "AI49188                          0                   2          566.472247  \n",
       "WW63253                          0                   7          529.881344  \n",
       "HB64268                          0                   1          138.130879  "
      ]
     },
     "execution_count": 105,
     "metadata": {},
     "output_type": "execute_result"
    }
   ],
   "source": [
    "customer_num.head()"
   ]
  },
  {
   "cell_type": "markdown",
   "id": "4e541859-2018-4db8-b797-068dace8fab7",
   "metadata": {},
   "source": [
    "### 2. Check using a distribution plot if the variables fit the theoretical normal or exponential distribution."
   ]
  },
  {
   "cell_type": "code",
   "execution_count": 112,
   "id": "17a3554e-80b5-4d40-89f2-67b07d3c3aef",
   "metadata": {},
   "outputs": [
    {
     "data": {
      "image/png": "[encoded data removed]",
      "text/plain": [
       "<Figure size 360x360 with 1 Axes>"
      ]
     },
     "metadata": {
      "needs_background": "light"
     },
     "output_type": "display_data"
    },
    {
     "data": {
      "image/png": "[encoded data removed]",
      "text/plain": [
       "<Figure size 360x360 with 1 Axes>"
      ]
     },
     "metadata": {
      "needs_background": "light"
     },
     "output_type": "display_data"
    },
    {
     "data": {
      "image/png": "[encoded data removed]",
      "text/plain": [
       "<Figure size 360x360 with 1 Axes>"
      ]
     },
     "metadata": {
      "needs_background": "light"
     },
     "output_type": "display_data"
    },
    {
     "data": {
      "image/png": "[encoded data removed]",
      "text/plain": [
       "<Figure size 360x360 with 1 Axes>"
      ]
     },
     "metadata": {
      "needs_background": "light"
     },
     "output_type": "display_data"
    },
    {
     "data": {
      "image/png": "[encoded data removed]",
      "text/plain": [
       "<Figure size 360x360 with 1 Axes>"
      ]
     },
     "metadata": {
      "needs_background": "light"
     },
     "output_type": "display_data"
    },
    {
     "data": {
      "image/png": "[encoded data removed]",
      "text/plain": [
       "<Figure size 360x360 with 1 Axes>"
      ]
     },
     "metadata": {
      "needs_background": "light"
     },
     "output_type": "display_data"
    },
    {
     "data": {
      "image/png": "[encoded data removed]",
      "text/plain": [
       "<Figure size 360x360 with 1 Axes>"
      ]
     },
     "metadata": {
      "needs_background": "light"
     },
     "output_type": "display_data"
    },
    {
     "data": {
      "image/png": "[encoded data removed]",
      "text/plain": [
       "<Figure size 360x360 with 1 Axes>"
      ]
     },
     "metadata": {
      "needs_background": "light"
     },
     "output_type": "display_data"
    }
   ],
   "source": [
    "for column in customer_num:\n",
    "    sns.displot(customer_num[column])\n",
    "    plt.show()"
   ]
  },
  {
   "cell_type": "markdown",
   "id": "a694c80d-264f-46e0-93f0-f8f500c43725",
   "metadata": {},
   "source": [
    "> Most varables are more similar to an exponential distribution than a normal distribution. Exceptions are 'customer lifetime value' and 'total claim amount'. Taking into account than the outlieres for these variables wehre replaced with the median, 'customer lifetime value' has a very high value count around 6000, that disturbs the plot. Without this peak it also more resembles an exponential distribution. 'months since last claim' and 'month since policy inception' look like neither. "
   ]
  },
  {
   "cell_type": "markdown",
   "id": "c472f138-739a-4d53-b13f-209ffcd46a2f",
   "metadata": {},
   "source": [
    "### 3. Check if any of the transformations (log-transform, etc.) we have seen up to this point changes the result."
   ]
  },
  {
   "cell_type": "markdown",
   "id": "fbed927f-20e1-4d10-b518-ed95365fa59d",
   "metadata": {},
   "source": [
    "#### boxcox transformation"
   ]
  },
  {
   "cell_type": "code",
   "execution_count": 108,
   "id": "b675dc46-276f-4cf2-bd32-557cbb5ff39b",
   "metadata": {},
   "outputs": [],
   "source": [
    "def boxcox_transform(df, in_columns, skip_columns=[]):\n",
    "    _ci = {column: None for column in in_columns}\n",
    "    for column in in_columns:\n",
    "        if column not in skip_columns:\n",
    "            df[column] = np.where(df[column]<=0, np.NAN, df[column]) \n",
    "            df[column] = df[column].fillna(df[column].median())\n",
    "            transformed_data, ci = stats.boxcox(df[column])\n",
    "            df[column] = transformed_data\n",
    "            _ci[column] = [ci] \n",
    "    return df, _ci"
   ]
  },
  {
   "cell_type": "code",
   "execution_count": 113,
   "id": "2fd76fcb-7b52-4b58-8bdd-52b503085e39",
   "metadata": {},
   "outputs": [
    {
     "data": {
      "image/png": "[encoded data removed]",
      "text/plain": [
       "<Figure size 360x360 with 1 Axes>"
      ]
     },
     "metadata": {
      "needs_background": "light"
     },
     "output_type": "display_data"
    },
    {
     "data": {
      "image/png": "[encoded data removed]",
      "text/plain": [
       "<Figure size 360x360 with 1 Axes>"
      ]
     },
     "metadata": {
      "needs_background": "light"
     },
     "output_type": "display_data"
    },
    {
     "data": {
      "image/png": "[encoded data removed]",
      "text/plain": [
       "<Figure size 360x360 with 1 Axes>"
      ]
     },
     "metadata": {
      "needs_background": "light"
     },
     "output_type": "display_data"
    },
    {
     "data": {
      "image/png": "[encoded data removed]",
      "text/plain": [
       "<Figure size 360x360 with 1 Axes>"
      ]
     },
     "metadata": {
      "needs_background": "light"
     },
     "output_type": "display_data"
    },
    {
     "data": {
      "image/png": "[encoded data removed]",
      "text/plain": [
       "<Figure size 360x360 with 1 Axes>"
      ]
     },
     "metadata": {
      "needs_background": "light"
     },
     "output_type": "display_data"
    },
    {
     "data": {
      "image/png": "[encoded data removed]",
      "text/plain": [
       "<Figure size 360x360 with 1 Axes>"
      ]
     },
     "metadata": {
      "needs_background": "light"
     },
     "output_type": "display_data"
    },
    {
     "data": {
      "image/png": "[encoded data removed]",
      "text/plain": [
       "<Figure size 360x360 with 1 Axes>"
      ]
     },
     "metadata": {
      "needs_background": "light"
     },
     "output_type": "display_data"
    },
    {
     "data": {
      "image/png": "[encoded data removed]",
      "text/plain": [
       "<Figure size 360x360 with 1 Axes>"
      ]
     },
     "metadata": {
      "needs_background": "light"
     },
     "output_type": "display_data"
    }
   ],
   "source": [
    "customer_numcol = list(customer_num.select_dtypes(include=[np.number]).columns.values)\n",
    "\n",
    "customer_num_boxcox, _ci = boxcox_transform(customer_num, in_columns=customer_numcol)\n",
    "\n",
    "for column in customer_num_boxcox:\n",
    "    sns.displot(customer_num_boxcox[column])\n",
    "    plt.show()"
   ]
  },
  {
   "cell_type": "markdown",
   "id": "1e50852d-870e-4d2f-adc0-39a23d18f3cd",
   "metadata": {},
   "source": [
    "#### log transformation"
   ]
  },
  {
   "cell_type": "code",
   "execution_count": 116,
   "id": "f6c929c4-1cd1-4f21-8f4f-8781cc0923b0",
   "metadata": {},
   "outputs": [],
   "source": [
    "def log_transfom(df, in_columns, skip_columns=[]):\n",
    "    for column in in_columns:\n",
    "        if column not in skip_columns:\n",
    "            df[column] = np.where(df[column]<=0, np.NAN, df[column]) \n",
    "            df[column] = df[column].fillna(df[column].median())\n",
    "            df[column] = np.log(df[column])\n",
    "    return df\n",
    "            "
   ]
  },
  {
   "cell_type": "code",
   "execution_count": 118,
   "id": "7fd8f63f-c1cc-4689-bf42-833b830878e2",
   "metadata": {},
   "outputs": [
    {
     "data": {
      "image/png": "[encoded data removed]",
      "text/plain": [
       "<Figure size 360x360 with 1 Axes>"
      ]
     },
     "metadata": {
      "needs_background": "light"
     },
     "output_type": "display_data"
    },
    {
     "data": {
      "image/png": "[encoded data removed]",
      "text/plain": [
       "<Figure size 360x360 with 1 Axes>"
      ]
     },
     "metadata": {
      "needs_background": "light"
     },
     "output_type": "display_data"
    },
    {
     "data": {
      "image/png": "[encoded data removed]",
      "text/plain": [
       "<Figure size 360x360 with 1 Axes>"
      ]
     },
     "metadata": {
      "needs_background": "light"
     },
     "output_type": "display_data"
    },
    {
     "data": {
      "image/png": "[encoded data removed]",
      "text/plain": [
       "<Figure size 360x360 with 1 Axes>"
      ]
     },
     "metadata": {
      "needs_background": "light"
     },
     "output_type": "display_data"
    },
    {
     "data": {
      "image/png": "[encoded data removed]",
      "text/plain": [
       "<Figure size 360x360 with 1 Axes>"
      ]
     },
     "metadata": {
      "needs_background": "light"
     },
     "output_type": "display_data"
    },
    {
     "data": {
      "image/png": "[encoded data removed]",
      "text/plain": [
       "<Figure size 360x360 with 1 Axes>"
      ]
     },
     "metadata": {
      "needs_background": "light"
     },
     "output_type": "display_data"
    },
    {
     "data": {
      "image/png": "[encoded data removed]",
      "text/plain": [
       "<Figure size 360x360 with 1 Axes>"
      ]
     },
     "metadata": {
      "needs_background": "light"
     },
     "output_type": "display_data"
    },
    {
     "data": {
      "image/png": "[encoded data removed]",
      "text/plain": [
       "<Figure size 360x360 with 1 Axes>"
      ]
     },
     "metadata": {
      "needs_background": "light"
     },
     "output_type": "display_data"
    }
   ],
   "source": [
    "customer_num_log = log_transfom(customer_num, in_columns=customer_numcol)\n",
    "\n",
    "for column in customer_num_log:\n",
    "    sns.displot(customer_num_log[column])\n",
    "    plt.show()"
   ]
  },
  {
   "cell_type": "markdown",
   "id": "6cbe8e4a-c26b-400e-892e-d27ee5a7ba72",
   "metadata": {},
   "source": [
    "> Not sure whats going wrong here but my transformations are really messing with the data. Even before the transformations the plots show strange data. I'm using 'customer_num' as a df here which is a copy the numerical columns of the original data from the first lab."
   ]
  },
  {
   "cell_type": "markdown",
   "id": "951627f5-661a-432c-a21b-6cc0609999f6",
   "metadata": {},
   "source": []
  }
 ],
 "metadata": {
  "kernelspec": {
   "display_name": "Python3Brew",
   "language": "python",
   "name": "python3brew"
  },
  "language_info": {
   "codemirror_mode": {
    "name": "ipython",
    "version": 3
   },
   "file_extension": ".py",
   "mimetype": "text/x-python",
   "name": "python",
   "nbconvert_exporter": "python",
   "pygments_lexer": "ipython3",
   "version": "3.9.4"
  },
  "toc-showtags": true
 },
 "nbformat": 4,
 "nbformat_minor": 5
}
